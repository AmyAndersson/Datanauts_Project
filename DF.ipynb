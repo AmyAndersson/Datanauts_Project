{
 "cells": [
  {
   "cell_type": "code",
   "execution_count": 282,
   "metadata": {},
   "outputs": [],
   "source": [
    "import matplotlib.pyplot as plt\n",
    "import pandas as pd\n",
    "import numpy as np\n",
    "import requests\n",
    "import time\n",
    "from scipy.stats import linregress\n",
    "import json\n",
    "import nasapy\n",
    "import nasa\n",
    "import seaborn as sns\n",
    "\n",
    "\n",
    "\n",
    "from api_keys import api_key\n"
   ]
  },
  {
   "cell_type": "code",
   "execution_count": 104,
   "metadata": {},
   "outputs": [
    {
     "data": {
      "text/html": [
       "<div>\n",
       "<style scoped>\n",
       "    .dataframe tbody tr th:only-of-type {\n",
       "        vertical-align: middle;\n",
       "    }\n",
       "\n",
       "    .dataframe tbody tr th {\n",
       "        vertical-align: top;\n",
       "    }\n",
       "\n",
       "    .dataframe thead th {\n",
       "        text-align: right;\n",
       "    }\n",
       "</style>\n",
       "<table border=\"1\" class=\"dataframe\">\n",
       "  <thead>\n",
       "    <tr style=\"text-align: right;\">\n",
       "      <th></th>\n",
       "      <th>Date</th>\n",
       "      <th>Month</th>\n",
       "      <th>Day</th>\n",
       "      <th>ID</th>\n",
       "      <th>Name</th>\n",
       "      <th>Absolute Magnitude</th>\n",
       "      <th>Relative Velocity (k/s)</th>\n",
       "      <th>Close Approach Date</th>\n",
       "      <th>Estimated Max Diameter</th>\n",
       "      <th>Estimated Min Diameter</th>\n",
       "      <th>Potentially Hazardous?</th>\n",
       "      <th>Miss Distance (km)</th>\n",
       "      <th>Orbiting Body</th>\n",
       "    </tr>\n",
       "  </thead>\n",
       "  <tbody>\n",
       "    <tr>\n",
       "      <th>0</th>\n",
       "      <td>1/01/2019</td>\n",
       "      <td>Jan</td>\n",
       "      <td>1</td>\n",
       "      <td>3837557</td>\n",
       "      <td>(2019 AN)</td>\n",
       "      <td>24.200</td>\n",
       "      <td>8.368577</td>\n",
       "      <td>1/01/2019</td>\n",
       "      <td>0.085909</td>\n",
       "      <td>0.038420</td>\n",
       "      <td>False</td>\n",
       "      <td>1.910837e+07</td>\n",
       "      <td>Earth</td>\n",
       "    </tr>\n",
       "    <tr>\n",
       "      <th>1</th>\n",
       "      <td>1/01/2019</td>\n",
       "      <td>Jan</td>\n",
       "      <td>1</td>\n",
       "      <td>3398654</td>\n",
       "      <td>(2007 YS56)</td>\n",
       "      <td>25.700</td>\n",
       "      <td>6.461135</td>\n",
       "      <td>1/01/2019</td>\n",
       "      <td>0.043057</td>\n",
       "      <td>0.019256</td>\n",
       "      <td>False</td>\n",
       "      <td>1.798761e+07</td>\n",
       "      <td>Earth</td>\n",
       "    </tr>\n",
       "    <tr>\n",
       "      <th>2</th>\n",
       "      <td>1/01/2019</td>\n",
       "      <td>Jan</td>\n",
       "      <td>1</td>\n",
       "      <td>3398652</td>\n",
       "      <td>(2007 YQ56)</td>\n",
       "      <td>19.900</td>\n",
       "      <td>15.429487</td>\n",
       "      <td>1/01/2019</td>\n",
       "      <td>0.622358</td>\n",
       "      <td>0.278327</td>\n",
       "      <td>True</td>\n",
       "      <td>1.144099e+07</td>\n",
       "      <td>Earth</td>\n",
       "    </tr>\n",
       "    <tr>\n",
       "      <th>3</th>\n",
       "      <td>1/01/2019</td>\n",
       "      <td>Jan</td>\n",
       "      <td>1</td>\n",
       "      <td>3837538</td>\n",
       "      <td>(2018 YV2)</td>\n",
       "      <td>24.200</td>\n",
       "      <td>11.718652</td>\n",
       "      <td>1/01/2019</td>\n",
       "      <td>0.085909</td>\n",
       "      <td>0.038420</td>\n",
       "      <td>False</td>\n",
       "      <td>1.022072e+07</td>\n",
       "      <td>Earth</td>\n",
       "    </tr>\n",
       "    <tr>\n",
       "      <th>4</th>\n",
       "      <td>1/01/2019</td>\n",
       "      <td>Jan</td>\n",
       "      <td>1</td>\n",
       "      <td>3771017</td>\n",
       "      <td>(2017 EV2)</td>\n",
       "      <td>20.800</td>\n",
       "      <td>13.642474</td>\n",
       "      <td>1/01/2019</td>\n",
       "      <td>0.411188</td>\n",
       "      <td>0.183889</td>\n",
       "      <td>False</td>\n",
       "      <td>7.033567e+07</td>\n",
       "      <td>Earth</td>\n",
       "    </tr>\n",
       "    <tr>\n",
       "      <th>...</th>\n",
       "      <td>...</td>\n",
       "      <td>...</td>\n",
       "      <td>...</td>\n",
       "      <td>...</td>\n",
       "      <td>...</td>\n",
       "      <td>...</td>\n",
       "      <td>...</td>\n",
       "      <td>...</td>\n",
       "      <td>...</td>\n",
       "      <td>...</td>\n",
       "      <td>...</td>\n",
       "      <td>...</td>\n",
       "      <td>...</td>\n",
       "    </tr>\n",
       "    <tr>\n",
       "      <th>5044</th>\n",
       "      <td>31/12/2019</td>\n",
       "      <td>Dec</td>\n",
       "      <td>31</td>\n",
       "      <td>2006239</td>\n",
       "      <td>6239 Minos (1989 QF)</td>\n",
       "      <td>18.500</td>\n",
       "      <td>9.007412</td>\n",
       "      <td>31/12/2019</td>\n",
       "      <td>1.185878</td>\n",
       "      <td>0.530341</td>\n",
       "      <td>True</td>\n",
       "      <td>6.346829e+07</td>\n",
       "      <td>Earth</td>\n",
       "    </tr>\n",
       "    <tr>\n",
       "      <th>5045</th>\n",
       "      <td>31/12/2019</td>\n",
       "      <td>Dec</td>\n",
       "      <td>31</td>\n",
       "      <td>3555072</td>\n",
       "      <td>(2011 AH5)</td>\n",
       "      <td>26.000</td>\n",
       "      <td>17.980102</td>\n",
       "      <td>31/12/2019</td>\n",
       "      <td>0.037501</td>\n",
       "      <td>0.016771</td>\n",
       "      <td>False</td>\n",
       "      <td>4.341405e+07</td>\n",
       "      <td>Earth</td>\n",
       "    </tr>\n",
       "    <tr>\n",
       "      <th>5046</th>\n",
       "      <td>31/12/2019</td>\n",
       "      <td>Dec</td>\n",
       "      <td>31</td>\n",
       "      <td>3976544</td>\n",
       "      <td>(2020 AA2)</td>\n",
       "      <td>27.000</td>\n",
       "      <td>9.714685</td>\n",
       "      <td>31/12/2019</td>\n",
       "      <td>0.023661</td>\n",
       "      <td>0.010582</td>\n",
       "      <td>False</td>\n",
       "      <td>1.643657e+06</td>\n",
       "      <td>Earth</td>\n",
       "    </tr>\n",
       "    <tr>\n",
       "      <th>5047</th>\n",
       "      <td>31/12/2019</td>\n",
       "      <td>Dec</td>\n",
       "      <td>31</td>\n",
       "      <td>3893722</td>\n",
       "      <td>(2019 WR4)</td>\n",
       "      <td>26.065</td>\n",
       "      <td>4.236817</td>\n",
       "      <td>31/12/2019</td>\n",
       "      <td>0.036395</td>\n",
       "      <td>0.016276</td>\n",
       "      <td>False</td>\n",
       "      <td>4.493435e+06</td>\n",
       "      <td>Earth</td>\n",
       "    </tr>\n",
       "    <tr>\n",
       "      <th>5048</th>\n",
       "      <td>31/12/2019</td>\n",
       "      <td>Dec</td>\n",
       "      <td>31</td>\n",
       "      <td>54017302</td>\n",
       "      <td>(2020 KV6)</td>\n",
       "      <td>25.788</td>\n",
       "      <td>12.524724</td>\n",
       "      <td>31/12/2019</td>\n",
       "      <td>0.041347</td>\n",
       "      <td>0.018491</td>\n",
       "      <td>False</td>\n",
       "      <td>6.450055e+07</td>\n",
       "      <td>Earth</td>\n",
       "    </tr>\n",
       "  </tbody>\n",
       "</table>\n",
       "<p>5049 rows × 13 columns</p>\n",
       "</div>"
      ],
      "text/plain": [
       "            Date Month  Day        ID                  Name  \\\n",
       "0      1/01/2019   Jan    1   3837557             (2019 AN)   \n",
       "1      1/01/2019   Jan    1   3398654           (2007 YS56)   \n",
       "2      1/01/2019   Jan    1   3398652           (2007 YQ56)   \n",
       "3      1/01/2019   Jan    1   3837538            (2018 YV2)   \n",
       "4      1/01/2019   Jan    1   3771017            (2017 EV2)   \n",
       "...          ...   ...  ...       ...                   ...   \n",
       "5044  31/12/2019   Dec   31   2006239  6239 Minos (1989 QF)   \n",
       "5045  31/12/2019   Dec   31   3555072            (2011 AH5)   \n",
       "5046  31/12/2019   Dec   31   3976544            (2020 AA2)   \n",
       "5047  31/12/2019   Dec   31   3893722            (2019 WR4)   \n",
       "5048  31/12/2019   Dec   31  54017302            (2020 KV6)   \n",
       "\n",
       "      Absolute Magnitude  Relative Velocity (k/s) Close Approach Date  \\\n",
       "0                 24.200                 8.368577           1/01/2019   \n",
       "1                 25.700                 6.461135           1/01/2019   \n",
       "2                 19.900                15.429487           1/01/2019   \n",
       "3                 24.200                11.718652           1/01/2019   \n",
       "4                 20.800                13.642474           1/01/2019   \n",
       "...                  ...                      ...                 ...   \n",
       "5044              18.500                 9.007412          31/12/2019   \n",
       "5045              26.000                17.980102          31/12/2019   \n",
       "5046              27.000                 9.714685          31/12/2019   \n",
       "5047              26.065                 4.236817          31/12/2019   \n",
       "5048              25.788                12.524724          31/12/2019   \n",
       "\n",
       "      Estimated Max Diameter  Estimated Min Diameter  Potentially Hazardous?  \\\n",
       "0                   0.085909                0.038420                   False   \n",
       "1                   0.043057                0.019256                   False   \n",
       "2                   0.622358                0.278327                    True   \n",
       "3                   0.085909                0.038420                   False   \n",
       "4                   0.411188                0.183889                   False   \n",
       "...                      ...                     ...                     ...   \n",
       "5044                1.185878                0.530341                    True   \n",
       "5045                0.037501                0.016771                   False   \n",
       "5046                0.023661                0.010582                   False   \n",
       "5047                0.036395                0.016276                   False   \n",
       "5048                0.041347                0.018491                   False   \n",
       "\n",
       "      Miss Distance (km) Orbiting Body  \n",
       "0           1.910837e+07         Earth  \n",
       "1           1.798761e+07         Earth  \n",
       "2           1.144099e+07         Earth  \n",
       "3           1.022072e+07         Earth  \n",
       "4           7.033567e+07         Earth  \n",
       "...                  ...           ...  \n",
       "5044        6.346829e+07         Earth  \n",
       "5045        4.341405e+07         Earth  \n",
       "5046        1.643657e+06         Earth  \n",
       "5047        4.493435e+06         Earth  \n",
       "5048        6.450055e+07         Earth  \n",
       "\n",
       "[5049 rows x 13 columns]"
      ]
     },
     "execution_count": 104,
     "metadata": {},
     "output_type": "execute_result"
    }
   ],
   "source": [
    "Asteroids = pd.read_csv(\"Asteroid_dates.csv\")\n",
    "Asteroids"
   ]
  },
  {
   "cell_type": "code",
   "execution_count": 105,
   "metadata": {},
   "outputs": [
    {
     "name": "stdout",
     "output_type": "stream",
     "text": [
      "<class 'pandas.core.frame.DataFrame'>\n",
      "RangeIndex: 5049 entries, 0 to 5048\n",
      "Data columns (total 13 columns):\n",
      " #   Column                   Non-Null Count  Dtype  \n",
      "---  ------                   --------------  -----  \n",
      " 0   Date                     5049 non-null   object \n",
      " 1   Month                    5049 non-null   object \n",
      " 2   Day                      5049 non-null   int64  \n",
      " 3   ID                       5049 non-null   int64  \n",
      " 4   Name                     5049 non-null   object \n",
      " 5   Absolute Magnitude       5049 non-null   float64\n",
      " 6   Relative Velocity (k/s)  5049 non-null   float64\n",
      " 7   Close Approach Date      5049 non-null   object \n",
      " 8   Estimated Max Diameter   5049 non-null   float64\n",
      " 9   Estimated Min Diameter   5049 non-null   float64\n",
      " 10  Potentially Hazardous?   5049 non-null   bool   \n",
      " 11  Miss Distance (km)       5049 non-null   float64\n",
      " 12  Orbiting Body            5049 non-null   object \n",
      "dtypes: bool(1), float64(5), int64(2), object(5)\n",
      "memory usage: 478.4+ KB\n"
     ]
    }
   ],
   "source": [
    "Asteroids.info()"
   ]
  },
  {
   "cell_type": "code",
   "execution_count": 106,
   "metadata": {},
   "outputs": [
    {
     "data": {
      "text/plain": [
       "4510"
      ]
     },
     "execution_count": 106,
     "metadata": {},
     "output_type": "execute_result"
    }
   ],
   "source": [
    "Asteroids[\"ID\"].nunique()"
   ]
  },
  {
   "cell_type": "code",
   "execution_count": 186,
   "metadata": {},
   "outputs": [
    {
     "data": {
      "text/plain": [
       "12613.43417"
      ]
     },
     "execution_count": 186,
     "metadata": {},
     "output_type": "execute_result"
    }
   ],
   "source": [
    "min_all=Asteroids[\"Miss Distance (km)\"].min()\n",
    "min_all"
   ]
  },
  {
   "cell_type": "code",
   "execution_count": 107,
   "metadata": {},
   "outputs": [
    {
     "data": {
      "text/html": [
       "<div>\n",
       "<style scoped>\n",
       "    .dataframe tbody tr th:only-of-type {\n",
       "        vertical-align: middle;\n",
       "    }\n",
       "\n",
       "    .dataframe tbody tr th {\n",
       "        vertical-align: top;\n",
       "    }\n",
       "\n",
       "    .dataframe thead th {\n",
       "        text-align: right;\n",
       "    }\n",
       "</style>\n",
       "<table border=\"1\" class=\"dataframe\">\n",
       "  <thead>\n",
       "    <tr style=\"text-align: right;\">\n",
       "      <th></th>\n",
       "      <th>Date</th>\n",
       "      <th>Month</th>\n",
       "      <th>Day</th>\n",
       "      <th>ID</th>\n",
       "      <th>Name</th>\n",
       "      <th>Absolute Magnitude</th>\n",
       "      <th>Relative Velocity (k/s)</th>\n",
       "      <th>Close Approach Date</th>\n",
       "      <th>Estimated Max Diameter</th>\n",
       "      <th>Estimated Min Diameter</th>\n",
       "      <th>Potentially Hazardous?</th>\n",
       "      <th>Miss Distance (km)</th>\n",
       "      <th>Orbiting Body</th>\n",
       "    </tr>\n",
       "  </thead>\n",
       "  <tbody>\n",
       "    <tr>\n",
       "      <th>0</th>\n",
       "      <td>1/01/2019</td>\n",
       "      <td>Jan</td>\n",
       "      <td>1</td>\n",
       "      <td>3837557</td>\n",
       "      <td>(2019 AN)</td>\n",
       "      <td>24.200</td>\n",
       "      <td>8.368577</td>\n",
       "      <td>1/01/2019</td>\n",
       "      <td>0.085909</td>\n",
       "      <td>0.038420</td>\n",
       "      <td>False</td>\n",
       "      <td>1.910837e+07</td>\n",
       "      <td>Earth</td>\n",
       "    </tr>\n",
       "    <tr>\n",
       "      <th>1</th>\n",
       "      <td>1/01/2019</td>\n",
       "      <td>Jan</td>\n",
       "      <td>1</td>\n",
       "      <td>3398654</td>\n",
       "      <td>(2007 YS56)</td>\n",
       "      <td>25.700</td>\n",
       "      <td>6.461135</td>\n",
       "      <td>1/01/2019</td>\n",
       "      <td>0.043057</td>\n",
       "      <td>0.019256</td>\n",
       "      <td>False</td>\n",
       "      <td>1.798761e+07</td>\n",
       "      <td>Earth</td>\n",
       "    </tr>\n",
       "    <tr>\n",
       "      <th>2</th>\n",
       "      <td>1/01/2019</td>\n",
       "      <td>Jan</td>\n",
       "      <td>1</td>\n",
       "      <td>3398652</td>\n",
       "      <td>(2007 YQ56)</td>\n",
       "      <td>19.900</td>\n",
       "      <td>15.429487</td>\n",
       "      <td>1/01/2019</td>\n",
       "      <td>0.622358</td>\n",
       "      <td>0.278327</td>\n",
       "      <td>True</td>\n",
       "      <td>1.144099e+07</td>\n",
       "      <td>Earth</td>\n",
       "    </tr>\n",
       "    <tr>\n",
       "      <th>3</th>\n",
       "      <td>1/01/2019</td>\n",
       "      <td>Jan</td>\n",
       "      <td>1</td>\n",
       "      <td>3837538</td>\n",
       "      <td>(2018 YV2)</td>\n",
       "      <td>24.200</td>\n",
       "      <td>11.718652</td>\n",
       "      <td>1/01/2019</td>\n",
       "      <td>0.085909</td>\n",
       "      <td>0.038420</td>\n",
       "      <td>False</td>\n",
       "      <td>1.022072e+07</td>\n",
       "      <td>Earth</td>\n",
       "    </tr>\n",
       "    <tr>\n",
       "      <th>4</th>\n",
       "      <td>1/01/2019</td>\n",
       "      <td>Jan</td>\n",
       "      <td>1</td>\n",
       "      <td>3771017</td>\n",
       "      <td>(2017 EV2)</td>\n",
       "      <td>20.800</td>\n",
       "      <td>13.642474</td>\n",
       "      <td>1/01/2019</td>\n",
       "      <td>0.411188</td>\n",
       "      <td>0.183889</td>\n",
       "      <td>False</td>\n",
       "      <td>7.033567e+07</td>\n",
       "      <td>Earth</td>\n",
       "    </tr>\n",
       "    <tr>\n",
       "      <th>...</th>\n",
       "      <td>...</td>\n",
       "      <td>...</td>\n",
       "      <td>...</td>\n",
       "      <td>...</td>\n",
       "      <td>...</td>\n",
       "      <td>...</td>\n",
       "      <td>...</td>\n",
       "      <td>...</td>\n",
       "      <td>...</td>\n",
       "      <td>...</td>\n",
       "      <td>...</td>\n",
       "      <td>...</td>\n",
       "      <td>...</td>\n",
       "    </tr>\n",
       "    <tr>\n",
       "      <th>5044</th>\n",
       "      <td>31/12/2019</td>\n",
       "      <td>Dec</td>\n",
       "      <td>31</td>\n",
       "      <td>2006239</td>\n",
       "      <td>6239 Minos (1989 QF)</td>\n",
       "      <td>18.500</td>\n",
       "      <td>9.007412</td>\n",
       "      <td>31/12/2019</td>\n",
       "      <td>1.185878</td>\n",
       "      <td>0.530341</td>\n",
       "      <td>True</td>\n",
       "      <td>6.346829e+07</td>\n",
       "      <td>Earth</td>\n",
       "    </tr>\n",
       "    <tr>\n",
       "      <th>5045</th>\n",
       "      <td>31/12/2019</td>\n",
       "      <td>Dec</td>\n",
       "      <td>31</td>\n",
       "      <td>3555072</td>\n",
       "      <td>(2011 AH5)</td>\n",
       "      <td>26.000</td>\n",
       "      <td>17.980102</td>\n",
       "      <td>31/12/2019</td>\n",
       "      <td>0.037501</td>\n",
       "      <td>0.016771</td>\n",
       "      <td>False</td>\n",
       "      <td>4.341405e+07</td>\n",
       "      <td>Earth</td>\n",
       "    </tr>\n",
       "    <tr>\n",
       "      <th>5046</th>\n",
       "      <td>31/12/2019</td>\n",
       "      <td>Dec</td>\n",
       "      <td>31</td>\n",
       "      <td>3976544</td>\n",
       "      <td>(2020 AA2)</td>\n",
       "      <td>27.000</td>\n",
       "      <td>9.714685</td>\n",
       "      <td>31/12/2019</td>\n",
       "      <td>0.023661</td>\n",
       "      <td>0.010582</td>\n",
       "      <td>False</td>\n",
       "      <td>1.643657e+06</td>\n",
       "      <td>Earth</td>\n",
       "    </tr>\n",
       "    <tr>\n",
       "      <th>5047</th>\n",
       "      <td>31/12/2019</td>\n",
       "      <td>Dec</td>\n",
       "      <td>31</td>\n",
       "      <td>3893722</td>\n",
       "      <td>(2019 WR4)</td>\n",
       "      <td>26.065</td>\n",
       "      <td>4.236817</td>\n",
       "      <td>31/12/2019</td>\n",
       "      <td>0.036395</td>\n",
       "      <td>0.016276</td>\n",
       "      <td>False</td>\n",
       "      <td>4.493435e+06</td>\n",
       "      <td>Earth</td>\n",
       "    </tr>\n",
       "    <tr>\n",
       "      <th>5048</th>\n",
       "      <td>31/12/2019</td>\n",
       "      <td>Dec</td>\n",
       "      <td>31</td>\n",
       "      <td>54017302</td>\n",
       "      <td>(2020 KV6)</td>\n",
       "      <td>25.788</td>\n",
       "      <td>12.524724</td>\n",
       "      <td>31/12/2019</td>\n",
       "      <td>0.041347</td>\n",
       "      <td>0.018491</td>\n",
       "      <td>False</td>\n",
       "      <td>6.450055e+07</td>\n",
       "      <td>Earth</td>\n",
       "    </tr>\n",
       "  </tbody>\n",
       "</table>\n",
       "<p>5049 rows × 13 columns</p>\n",
       "</div>"
      ],
      "text/plain": [
       "            Date Month  Day        ID                  Name  \\\n",
       "0      1/01/2019   Jan    1   3837557             (2019 AN)   \n",
       "1      1/01/2019   Jan    1   3398654           (2007 YS56)   \n",
       "2      1/01/2019   Jan    1   3398652           (2007 YQ56)   \n",
       "3      1/01/2019   Jan    1   3837538            (2018 YV2)   \n",
       "4      1/01/2019   Jan    1   3771017            (2017 EV2)   \n",
       "...          ...   ...  ...       ...                   ...   \n",
       "5044  31/12/2019   Dec   31   2006239  6239 Minos (1989 QF)   \n",
       "5045  31/12/2019   Dec   31   3555072            (2011 AH5)   \n",
       "5046  31/12/2019   Dec   31   3976544            (2020 AA2)   \n",
       "5047  31/12/2019   Dec   31   3893722            (2019 WR4)   \n",
       "5048  31/12/2019   Dec   31  54017302            (2020 KV6)   \n",
       "\n",
       "      Absolute Magnitude  Relative Velocity (k/s) Close Approach Date  \\\n",
       "0                 24.200                 8.368577           1/01/2019   \n",
       "1                 25.700                 6.461135           1/01/2019   \n",
       "2                 19.900                15.429487           1/01/2019   \n",
       "3                 24.200                11.718652           1/01/2019   \n",
       "4                 20.800                13.642474           1/01/2019   \n",
       "...                  ...                      ...                 ...   \n",
       "5044              18.500                 9.007412          31/12/2019   \n",
       "5045              26.000                17.980102          31/12/2019   \n",
       "5046              27.000                 9.714685          31/12/2019   \n",
       "5047              26.065                 4.236817          31/12/2019   \n",
       "5048              25.788                12.524724          31/12/2019   \n",
       "\n",
       "      Estimated Max Diameter  Estimated Min Diameter  Potentially Hazardous?  \\\n",
       "0                   0.085909                0.038420                   False   \n",
       "1                   0.043057                0.019256                   False   \n",
       "2                   0.622358                0.278327                    True   \n",
       "3                   0.085909                0.038420                   False   \n",
       "4                   0.411188                0.183889                   False   \n",
       "...                      ...                     ...                     ...   \n",
       "5044                1.185878                0.530341                    True   \n",
       "5045                0.037501                0.016771                   False   \n",
       "5046                0.023661                0.010582                   False   \n",
       "5047                0.036395                0.016276                   False   \n",
       "5048                0.041347                0.018491                   False   \n",
       "\n",
       "      Miss Distance (km) Orbiting Body  \n",
       "0           1.910837e+07         Earth  \n",
       "1           1.798761e+07         Earth  \n",
       "2           1.144099e+07         Earth  \n",
       "3           1.022072e+07         Earth  \n",
       "4           7.033567e+07         Earth  \n",
       "...                  ...           ...  \n",
       "5044        6.346829e+07         Earth  \n",
       "5045        4.341405e+07         Earth  \n",
       "5046        1.643657e+06         Earth  \n",
       "5047        4.493435e+06         Earth  \n",
       "5048        6.450055e+07         Earth  \n",
       "\n",
       "[5049 rows x 13 columns]"
      ]
     },
     "execution_count": 107,
     "metadata": {},
     "output_type": "execute_result"
    }
   ],
   "source": [
    "Asteroids_by_ID=Asteroids.groupby('ID')\n",
    "Asteroids_by_ID.head()"
   ]
  },
  {
   "cell_type": "code",
   "execution_count": 258,
   "metadata": {},
   "outputs": [
    {
     "data": {
      "image/png": "[encoded data removed]",
      "text/plain": [
       "<Figure size 432x288 with 1 Axes>"
      ]
     },
     "metadata": {
      "needs_background": "light"
     },
     "output_type": "display_data"
    }
   ],
   "source": [
    "Asteroids_Months=Asteroids.groupby(\"Month\")\n",
    "\n",
    "ALL_count_2=Asteroids_Months[\"ID\"].nunique()\n",
    "\n",
    "\n",
    "Asteroids_Months_plot=ALL_count_2.plot(kind=\"bar\", title=\"Asteroids by Month\", color=\"darkslategray\")\n",
    "Asteroids_Months_plot.set_xlabel=(\"Month\")\n",
    "Asteroids_Months_plot.set_ylabel=(\"Asteroid count\")"
   ]
  },
  {
   "cell_type": "code",
   "execution_count": 221,
   "metadata": {},
   "outputs": [
    {
     "data": {
      "text/plain": [
       "Date                       4588\n",
       "Month                      4588\n",
       "Day                        4588\n",
       "ID                         4588\n",
       "Name                       4588\n",
       "Absolute Magnitude         4588\n",
       "Relative Velocity (k/s)    4588\n",
       "Close Approach Date        4588\n",
       "Estimated Max Diameter     4588\n",
       "Estimated Min Diameter     4588\n",
       "Potentially Hazardous?     4588\n",
       "Miss Distance (km)         4588\n",
       "Orbiting Body              4588\n",
       "dtype: int64"
      ]
     },
     "execution_count": 221,
     "metadata": {},
     "output_type": "execute_result"
    }
   ],
   "source": [
    "Haz_tru= Asteroids.loc[Asteroids[\"Potentially Hazardous?\"]== True].count()\n",
    "Haz_tru\n",
    "Haz_false= Asteroids.loc[Asteroids[\"Potentially Hazardous?\"]== False].count()\n",
    "Haz_false"
   ]
  },
  {
   "cell_type": "code",
   "execution_count": 224,
   "metadata": {},
   "outputs": [],
   "source": [
    "Haz_tru=461\n",
    "Haz_false=4588"
   ]
  },
  {
   "cell_type": "code",
   "execution_count": 256,
   "metadata": {},
   "outputs": [
    {
     "data": {
      "image/png": "[encoded data removed]",
      "text/plain": [
       "<Figure size 432x288 with 1 Axes>"
      ]
     },
     "metadata": {},
     "output_type": "display_data"
    }
   ],
   "source": [
    "labels = [\"Potentially Hazardous\", \"No Danger\"]\n",
    "\n",
    "# The values of each section of the pie chart\n",
    "sizes = [461, 4588]\n",
    "\n",
    "# The colors of each section of the pie chart\n",
    "colors = [\"maroon\", \"darkslategray\"]\n",
    "\n",
    "# Tells matplotlib to seperate the \"Humans\" section from the others\n",
    "explode = (.5, 0)\n",
    "plt.pie(sizes, explode=explode, labels=labels, colors=colors,\n",
    "        autopct=\"%1.1f%%\", shadow=True, startangle=140);"
   ]
  },
  {
   "cell_type": "code",
   "execution_count": 318,
   "metadata": {},
   "outputs": [
    {
     "data": {
      "text/plain": [
       "973     True\n",
       "980     True\n",
       "1087    True\n",
       "1127    True\n",
       "1234    True\n",
       "        ... \n",
       "5015    True\n",
       "5017    True\n",
       "5030    True\n",
       "5032    True\n",
       "5042    True\n",
       "Length: 539, dtype: bool"
      ]
     },
     "execution_count": 318,
     "metadata": {},
     "output_type": "execute_result"
    }
   ],
   "source": []
  },
  {
   "cell_type": "code",
   "execution_count": 108,
   "metadata": {},
   "outputs": [
    {
     "data": {
      "text/plain": [
       "Date                       4510\n",
       "Month                      4510\n",
       "Day                        4510\n",
       "ID                         4510\n",
       "Name                       4510\n",
       "Absolute Magnitude         4510\n",
       "Relative Velocity (k/s)    4510\n",
       "Close Approach Date        4510\n",
       "Estimated Max Diameter     4510\n",
       "Estimated Min Diameter     4510\n",
       "Potentially Hazardous?     4510\n",
       "Miss Distance (km)         4510\n",
       "Orbiting Body              4510\n",
       "dtype: int64"
      ]
     },
     "execution_count": 108,
     "metadata": {},
     "output_type": "execute_result"
    }
   ],
   "source": [
    "single_asteroid=Asteroids.drop_duplicates(\"ID\",keep='first')\n",
    "single_asteroid.count()"
   ]
  },
  {
   "cell_type": "code",
   "execution_count": 109,
   "metadata": {},
   "outputs": [
    {
     "data": {
      "text/plain": [
       "Date                       5049\n",
       "Month                      5049\n",
       "Day                        5049\n",
       "ID                         5049\n",
       "Name                       5049\n",
       "Absolute Magnitude         5049\n",
       "Relative Velocity (k/s)    5049\n",
       "Close Approach Date        5049\n",
       "Estimated Max Diameter     5049\n",
       "Estimated Min Diameter     5049\n",
       "Potentially Hazardous?     5049\n",
       "Miss Distance (km)         5049\n",
       "Orbiting Body              5049\n",
       "dtype: int64"
      ]
     },
     "execution_count": 109,
     "metadata": {},
     "output_type": "execute_result"
    }
   ],
   "source": [
    "Asteroids.count()"
   ]
  },
  {
   "cell_type": "code",
   "execution_count": 184,
   "metadata": {},
   "outputs": [
    {
     "data": {
      "text/plain": [
       "Date                       409\n",
       "Month                      409\n",
       "Day                        409\n",
       "ID                         409\n",
       "Name                       409\n",
       "Absolute Magnitude         409\n",
       "Relative Velocity (k/s)    409\n",
       "Close Approach Date        409\n",
       "Estimated Max Diameter     409\n",
       "Estimated Min Diameter     409\n",
       "Potentially Hazardous?     409\n",
       "Miss Distance (km)         409\n",
       "Orbiting Body              409\n",
       "dtype: int64"
      ]
     },
     "execution_count": 184,
     "metadata": {},
     "output_type": "execute_result"
    }
   ],
   "source": []
  },
  {
   "cell_type": "code",
   "execution_count": 110,
   "metadata": {},
   "outputs": [
    {
     "data": {
      "text/html": [
       "<div>\n",
       "<style scoped>\n",
       "    .dataframe tbody tr th:only-of-type {\n",
       "        vertical-align: middle;\n",
       "    }\n",
       "\n",
       "    .dataframe tbody tr th {\n",
       "        vertical-align: top;\n",
       "    }\n",
       "\n",
       "    .dataframe thead th {\n",
       "        text-align: right;\n",
       "    }\n",
       "</style>\n",
       "<table border=\"1\" class=\"dataframe\">\n",
       "  <thead>\n",
       "    <tr style=\"text-align: right;\">\n",
       "      <th></th>\n",
       "      <th>Date</th>\n",
       "      <th>Month</th>\n",
       "      <th>Day</th>\n",
       "      <th>ID</th>\n",
       "      <th>Name</th>\n",
       "      <th>Absolute Magnitude</th>\n",
       "      <th>Relative Velocity (k/s)</th>\n",
       "      <th>Close Approach Date</th>\n",
       "      <th>Estimated Max Diameter</th>\n",
       "      <th>Estimated Min Diameter</th>\n",
       "      <th>Potentially Hazardous?</th>\n",
       "      <th>Miss Distance (km)</th>\n",
       "      <th>Orbiting Body</th>\n",
       "    </tr>\n",
       "  </thead>\n",
       "  <tbody>\n",
       "    <tr>\n",
       "      <th>2</th>\n",
       "      <td>1/01/2019</td>\n",
       "      <td>Jan</td>\n",
       "      <td>1</td>\n",
       "      <td>3398652</td>\n",
       "      <td>(2007 YQ56)</td>\n",
       "      <td>19.9</td>\n",
       "      <td>15.429487</td>\n",
       "      <td>1/01/2019</td>\n",
       "      <td>0.622358</td>\n",
       "      <td>0.278327</td>\n",
       "      <td>True</td>\n",
       "      <td>1.144099e+07</td>\n",
       "      <td>Earth</td>\n",
       "    </tr>\n",
       "    <tr>\n",
       "      <th>8</th>\n",
       "      <td>1/01/2019</td>\n",
       "      <td>Jan</td>\n",
       "      <td>1</td>\n",
       "      <td>2527715</td>\n",
       "      <td>527715 (2007 YQ56)</td>\n",
       "      <td>19.9</td>\n",
       "      <td>15.429488</td>\n",
       "      <td>1/01/2019</td>\n",
       "      <td>0.622358</td>\n",
       "      <td>0.278327</td>\n",
       "      <td>True</td>\n",
       "      <td>1.144099e+07</td>\n",
       "      <td>Earth</td>\n",
       "    </tr>\n",
       "    <tr>\n",
       "      <th>32</th>\n",
       "      <td>3/01/2019</td>\n",
       "      <td>Jan</td>\n",
       "      <td>3</td>\n",
       "      <td>2357022</td>\n",
       "      <td>357022 (1999 YG3)</td>\n",
       "      <td>19.0</td>\n",
       "      <td>25.901881</td>\n",
       "      <td>3/01/2019</td>\n",
       "      <td>0.941976</td>\n",
       "      <td>0.421265</td>\n",
       "      <td>True</td>\n",
       "      <td>4.865035e+07</td>\n",
       "      <td>Earth</td>\n",
       "    </tr>\n",
       "    <tr>\n",
       "      <th>38</th>\n",
       "      <td>4/01/2019</td>\n",
       "      <td>Jan</td>\n",
       "      <td>4</td>\n",
       "      <td>3263453</td>\n",
       "      <td>(2004 XP14)</td>\n",
       "      <td>19.4</td>\n",
       "      <td>17.176591</td>\n",
       "      <td>4/01/2019</td>\n",
       "      <td>0.783502</td>\n",
       "      <td>0.350393</td>\n",
       "      <td>True</td>\n",
       "      <td>1.093730e+07</td>\n",
       "      <td>Earth</td>\n",
       "    </tr>\n",
       "    <tr>\n",
       "      <th>55</th>\n",
       "      <td>5/01/2019</td>\n",
       "      <td>Jan</td>\n",
       "      <td>5</td>\n",
       "      <td>2267729</td>\n",
       "      <td>267729 (2003 FC5)</td>\n",
       "      <td>18.3</td>\n",
       "      <td>13.317079</td>\n",
       "      <td>5/01/2019</td>\n",
       "      <td>1.300289</td>\n",
       "      <td>0.581507</td>\n",
       "      <td>True</td>\n",
       "      <td>3.724010e+07</td>\n",
       "      <td>Earth</td>\n",
       "    </tr>\n",
       "    <tr>\n",
       "      <th>...</th>\n",
       "      <td>...</td>\n",
       "      <td>...</td>\n",
       "      <td>...</td>\n",
       "      <td>...</td>\n",
       "      <td>...</td>\n",
       "      <td>...</td>\n",
       "      <td>...</td>\n",
       "      <td>...</td>\n",
       "      <td>...</td>\n",
       "      <td>...</td>\n",
       "      <td>...</td>\n",
       "      <td>...</td>\n",
       "      <td>...</td>\n",
       "    </tr>\n",
       "    <tr>\n",
       "      <th>4978</th>\n",
       "      <td>26/12/2019</td>\n",
       "      <td>Dec</td>\n",
       "      <td>26</td>\n",
       "      <td>2310442</td>\n",
       "      <td>310442 (2000 CH59)</td>\n",
       "      <td>19.9</td>\n",
       "      <td>12.273016</td>\n",
       "      <td>26/12/2019</td>\n",
       "      <td>0.622358</td>\n",
       "      <td>0.278327</td>\n",
       "      <td>True</td>\n",
       "      <td>7.291408e+06</td>\n",
       "      <td>Earth</td>\n",
       "    </tr>\n",
       "    <tr>\n",
       "      <th>4990</th>\n",
       "      <td>27/12/2019</td>\n",
       "      <td>Dec</td>\n",
       "      <td>27</td>\n",
       "      <td>2267221</td>\n",
       "      <td>267221 (2001 AD2)</td>\n",
       "      <td>19.7</td>\n",
       "      <td>25.924487</td>\n",
       "      <td>27/12/2019</td>\n",
       "      <td>0.682402</td>\n",
       "      <td>0.305179</td>\n",
       "      <td>True</td>\n",
       "      <td>2.097858e+07</td>\n",
       "      <td>Earth</td>\n",
       "    </tr>\n",
       "    <tr>\n",
       "      <th>4996</th>\n",
       "      <td>28/12/2019</td>\n",
       "      <td>Dec</td>\n",
       "      <td>28</td>\n",
       "      <td>2136849</td>\n",
       "      <td>136849 (1998 CS1)</td>\n",
       "      <td>17.6</td>\n",
       "      <td>32.012844</td>\n",
       "      <td>28/12/2019</td>\n",
       "      <td>1.794899</td>\n",
       "      <td>0.802703</td>\n",
       "      <td>True</td>\n",
       "      <td>6.997161e+07</td>\n",
       "      <td>Earth</td>\n",
       "    </tr>\n",
       "    <tr>\n",
       "      <th>5003</th>\n",
       "      <td>28/12/2019</td>\n",
       "      <td>Dec</td>\n",
       "      <td>28</td>\n",
       "      <td>3893728</td>\n",
       "      <td>(2019 WX4)</td>\n",
       "      <td>21.0</td>\n",
       "      <td>17.719711</td>\n",
       "      <td>28/12/2019</td>\n",
       "      <td>0.375008</td>\n",
       "      <td>0.167708</td>\n",
       "      <td>True</td>\n",
       "      <td>4.165681e+07</td>\n",
       "      <td>Earth</td>\n",
       "    </tr>\n",
       "    <tr>\n",
       "      <th>5044</th>\n",
       "      <td>31/12/2019</td>\n",
       "      <td>Dec</td>\n",
       "      <td>31</td>\n",
       "      <td>2006239</td>\n",
       "      <td>6239 Minos (1989 QF)</td>\n",
       "      <td>18.5</td>\n",
       "      <td>9.007412</td>\n",
       "      <td>31/12/2019</td>\n",
       "      <td>1.185878</td>\n",
       "      <td>0.530341</td>\n",
       "      <td>True</td>\n",
       "      <td>6.346829e+07</td>\n",
       "      <td>Earth</td>\n",
       "    </tr>\n",
       "  </tbody>\n",
       "</table>\n",
       "<p>409 rows × 13 columns</p>\n",
       "</div>"
      ],
      "text/plain": [
       "            Date Month  Day       ID                  Name  \\\n",
       "2      1/01/2019   Jan    1  3398652           (2007 YQ56)   \n",
       "8      1/01/2019   Jan    1  2527715    527715 (2007 YQ56)   \n",
       "32     3/01/2019   Jan    3  2357022     357022 (1999 YG3)   \n",
       "38     4/01/2019   Jan    4  3263453           (2004 XP14)   \n",
       "55     5/01/2019   Jan    5  2267729     267729 (2003 FC5)   \n",
       "...          ...   ...  ...      ...                   ...   \n",
       "4978  26/12/2019   Dec   26  2310442    310442 (2000 CH59)   \n",
       "4990  27/12/2019   Dec   27  2267221     267221 (2001 AD2)   \n",
       "4996  28/12/2019   Dec   28  2136849     136849 (1998 CS1)   \n",
       "5003  28/12/2019   Dec   28  3893728            (2019 WX4)   \n",
       "5044  31/12/2019   Dec   31  2006239  6239 Minos (1989 QF)   \n",
       "\n",
       "      Absolute Magnitude  Relative Velocity (k/s) Close Approach Date  \\\n",
       "2                   19.9                15.429487           1/01/2019   \n",
       "8                   19.9                15.429488           1/01/2019   \n",
       "32                  19.0                25.901881           3/01/2019   \n",
       "38                  19.4                17.176591           4/01/2019   \n",
       "55                  18.3                13.317079           5/01/2019   \n",
       "...                  ...                      ...                 ...   \n",
       "4978                19.9                12.273016          26/12/2019   \n",
       "4990                19.7                25.924487          27/12/2019   \n",
       "4996                17.6                32.012844          28/12/2019   \n",
       "5003                21.0                17.719711          28/12/2019   \n",
       "5044                18.5                 9.007412          31/12/2019   \n",
       "\n",
       "      Estimated Max Diameter  Estimated Min Diameter  Potentially Hazardous?  \\\n",
       "2                   0.622358                0.278327                    True   \n",
       "8                   0.622358                0.278327                    True   \n",
       "32                  0.941976                0.421265                    True   \n",
       "38                  0.783502                0.350393                    True   \n",
       "55                  1.300289                0.581507                    True   \n",
       "...                      ...                     ...                     ...   \n",
       "4978                0.622358                0.278327                    True   \n",
       "4990                0.682402                0.305179                    True   \n",
       "4996                1.794899                0.802703                    True   \n",
       "5003                0.375008                0.167708                    True   \n",
       "5044                1.185878                0.530341                    True   \n",
       "\n",
       "      Miss Distance (km) Orbiting Body  \n",
       "2           1.144099e+07         Earth  \n",
       "8           1.144099e+07         Earth  \n",
       "32          4.865035e+07         Earth  \n",
       "38          1.093730e+07         Earth  \n",
       "55          3.724010e+07         Earth  \n",
       "...                  ...           ...  \n",
       "4978        7.291408e+06         Earth  \n",
       "4990        2.097858e+07         Earth  \n",
       "4996        6.997161e+07         Earth  \n",
       "5003        4.165681e+07         Earth  \n",
       "5044        6.346829e+07         Earth  \n",
       "\n",
       "[409 rows x 13 columns]"
      ]
     },
     "execution_count": 110,
     "metadata": {},
     "output_type": "execute_result"
    }
   ],
   "source": [
    "Pos_Hazard=single_asteroid.loc[single_asteroid[\"Potentially Hazardous?\"] == True]\n",
    "Pos_Hazard"
   ]
  },
  {
   "cell_type": "code",
   "execution_count": 310,
   "metadata": {},
   "outputs": [
    {
     "data": {
      "text/plain": [
       "409"
      ]
     },
     "execution_count": 310,
     "metadata": {},
     "output_type": "execute_result"
    }
   ],
   "source": [
    "Pos_Hazard[\"ID\"].nunique()"
   ]
  },
  {
   "cell_type": "code",
   "execution_count": 111,
   "metadata": {},
   "outputs": [],
   "source": [
    "mean_mag=Pos_Hazard[\"Absolute Magnitude\"].mean()\n",
    "mean_Rvel=Pos_Hazard[\"Relative Velocity (k/s)\"].mean()"
   ]
  },
  {
   "cell_type": "code",
   "execution_count": 112,
   "metadata": {},
   "outputs": [
    {
     "data": {
      "text/plain": [
       "<BarContainer object of 409 artists>"
      ]
     },
     "execution_count": 112,
     "metadata": {},
     "output_type": "execute_result"
    },
    {
     "data": {
      "image/png": "[encoded data removed]",
      "text/plain": [
       "<Figure size 432x288 with 1 Axes>"
      ]
     },
     "metadata": {
      "needs_background": "light"
     },
     "output_type": "display_data"
    }
   ],
   "source": [
    "plt.bar(Pos_Hazard[\"Name\"], Pos_Hazard[\"Relative Velocity (k/s)\"])"
   ]
  },
  {
   "cell_type": "code",
   "execution_count": 311,
   "metadata": {},
   "outputs": [
    {
     "data": {
      "text/plain": [
       "Text(0.5, 1.0, 'Max Diameter vs Relative Velocity')"
      ]
     },
     "execution_count": 311,
     "metadata": {},
     "output_type": "execute_result"
    },
    {
     "data": {
      "image/png": "[encoded data removed]",
      "text/plain": [
       "<Figure size 432x288 with 1 Axes>"
      ]
     },
     "metadata": {
      "needs_background": "light"
     },
     "output_type": "display_data"
    }
   ],
   "source": [
    "plt.scatter(Pos_Hazard[\"Relative Velocity (k/s)\"], Pos_Hazard[\"Estimated Max Diameter\"], color=\"maroon\", edgecolors=\"black\")\n",
    "plt.xlabel(\"Relative Velocity (km/s)\")\n",
    "plt.ylabel(\"Estimated Max Diameter (km)\")\n",
    "plt.title(\"Max Diameter vs Relative Velocity\")"
   ]
  },
  {
   "cell_type": "code",
   "execution_count": 312,
   "metadata": {},
   "outputs": [
    {
     "data": {
      "text/plain": [
       "Text(0.5, 1.0, 'Relative Velocity vs Absolute Magnitude')"
      ]
     },
     "execution_count": 312,
     "metadata": {},
     "output_type": "execute_result"
    },
    {
     "data": {
      "image/png": "[encoded data removed]",
      "text/plain": [
       "<Figure size 432x288 with 1 Axes>"
      ]
     },
     "metadata": {
      "needs_background": "light"
     },
     "output_type": "display_data"
    }
   ],
   "source": [
    "plt.scatter(Pos_Hazard[\"Absolute Magnitude\"], Pos_Hazard[\"Relative Velocity (k/s)\"], color=\"maroon\", edgecolors=\"black\")\n",
    "plt.xlabel(\"Absolute Magnitude\")\n",
    "plt.ylabel(\"Relative Velocity (km/s)\")\n",
    "plt.title(\"Relative Velocity vs Absolute Magnitude\")"
   ]
  },
  {
   "cell_type": "code",
   "execution_count": 314,
   "metadata": {},
   "outputs": [
    {
     "data": {
      "text/plain": [
       "Text(0.5, 1.0, 'Relative Velocity vs Absolute Magnitude')"
      ]
     },
     "execution_count": 314,
     "metadata": {},
     "output_type": "execute_result"
    },
    {
     "data": {
      "image/png": "[encoded data removed]",
      "text/plain": [
       "<Figure size 432x288 with 1 Axes>"
      ]
     },
     "metadata": {
      "needs_background": "light"
     },
     "output_type": "display_data"
    }
   ],
   "source": [
    "plt.scatter(Pos_Hazard[\"Estimated Max Diameter\"], Pos_Hazard[\"Relative Velocity (k/s)\"], color=\"maroon\", edgecolors=\"black\")\n",
    "plt.xlabel(\"Estimated Max Diameter\")\n",
    "plt.ylabel(\"Relative Velocity (km/s)\")\n",
    "plt.title(\"Relative Velocity vs Absolute Magnitude\")"
   ]
  },
  {
   "cell_type": "code",
   "execution_count": 315,
   "metadata": {},
   "outputs": [
    {
     "data": {
      "text/plain": [
       "Text(0.5, 1.0, 'Absolute Magnitude vs Estimated Max Diameter')"
      ]
     },
     "execution_count": 315,
     "metadata": {},
     "output_type": "execute_result"
    },
    {
     "data": {
      "image/png": "[encoded data removed]",
      "text/plain": [
       "<Figure size 432x288 with 1 Axes>"
      ]
     },
     "metadata": {
      "needs_background": "light"
     },
     "output_type": "display_data"
    }
   ],
   "source": [
    "plt.scatter(Pos_Hazard[\"Estimated Max Diameter\"], Pos_Hazard[\"Absolute Magnitude\"], color=\"maroon\", edgecolors=\"black\")\n",
    "plt.ylabel(\"H\")\n",
    "plt.xlabel(\"Est. Max Dia\")\n",
    "\n",
    "plt.title(\"Absolute Magnitude vs Estimated Max Diameter\")"
   ]
  },
  {
   "cell_type": "code",
   "execution_count": 118,
   "metadata": {},
   "outputs": [
    {
     "data": {
      "text/html": [
       "<div>\n",
       "<style scoped>\n",
       "    .dataframe tbody tr th:only-of-type {\n",
       "        vertical-align: middle;\n",
       "    }\n",
       "\n",
       "    .dataframe tbody tr th {\n",
       "        vertical-align: top;\n",
       "    }\n",
       "\n",
       "    .dataframe thead th {\n",
       "        text-align: right;\n",
       "    }\n",
       "</style>\n",
       "<table border=\"1\" class=\"dataframe\">\n",
       "  <thead>\n",
       "    <tr style=\"text-align: right;\">\n",
       "      <th></th>\n",
       "      <th>Date</th>\n",
       "      <th>Month</th>\n",
       "      <th>Day</th>\n",
       "      <th>ID</th>\n",
       "      <th>Name</th>\n",
       "      <th>Absolute Magnitude</th>\n",
       "      <th>Relative Velocity (k/s)</th>\n",
       "      <th>Close Approach Date</th>\n",
       "      <th>Estimated Max Diameter</th>\n",
       "      <th>Estimated Min Diameter</th>\n",
       "      <th>Potentially Hazardous?</th>\n",
       "      <th>Miss Distance (km)</th>\n",
       "      <th>Orbiting Body</th>\n",
       "    </tr>\n",
       "  </thead>\n",
       "  <tbody>\n",
       "    <tr>\n",
       "      <th>2</th>\n",
       "      <td>1/01/2019</td>\n",
       "      <td>Jan</td>\n",
       "      <td>1</td>\n",
       "      <td>3398652</td>\n",
       "      <td>(2007 YQ56)</td>\n",
       "      <td>19.9</td>\n",
       "      <td>15.429487</td>\n",
       "      <td>1/01/2019</td>\n",
       "      <td>0.622358</td>\n",
       "      <td>0.278327</td>\n",
       "      <td>True</td>\n",
       "      <td>1.144099e+07</td>\n",
       "      <td>Earth</td>\n",
       "    </tr>\n",
       "    <tr>\n",
       "      <th>8</th>\n",
       "      <td>1/01/2019</td>\n",
       "      <td>Jan</td>\n",
       "      <td>1</td>\n",
       "      <td>2527715</td>\n",
       "      <td>527715 (2007 YQ56)</td>\n",
       "      <td>19.9</td>\n",
       "      <td>15.429488</td>\n",
       "      <td>1/01/2019</td>\n",
       "      <td>0.622358</td>\n",
       "      <td>0.278327</td>\n",
       "      <td>True</td>\n",
       "      <td>1.144099e+07</td>\n",
       "      <td>Earth</td>\n",
       "    </tr>\n",
       "    <tr>\n",
       "      <th>32</th>\n",
       "      <td>3/01/2019</td>\n",
       "      <td>Jan</td>\n",
       "      <td>3</td>\n",
       "      <td>2357022</td>\n",
       "      <td>357022 (1999 YG3)</td>\n",
       "      <td>19.0</td>\n",
       "      <td>25.901881</td>\n",
       "      <td>3/01/2019</td>\n",
       "      <td>0.941976</td>\n",
       "      <td>0.421265</td>\n",
       "      <td>True</td>\n",
       "      <td>4.865035e+07</td>\n",
       "      <td>Earth</td>\n",
       "    </tr>\n",
       "    <tr>\n",
       "      <th>38</th>\n",
       "      <td>4/01/2019</td>\n",
       "      <td>Jan</td>\n",
       "      <td>4</td>\n",
       "      <td>3263453</td>\n",
       "      <td>(2004 XP14)</td>\n",
       "      <td>19.4</td>\n",
       "      <td>17.176591</td>\n",
       "      <td>4/01/2019</td>\n",
       "      <td>0.783502</td>\n",
       "      <td>0.350393</td>\n",
       "      <td>True</td>\n",
       "      <td>1.093730e+07</td>\n",
       "      <td>Earth</td>\n",
       "    </tr>\n",
       "    <tr>\n",
       "      <th>55</th>\n",
       "      <td>5/01/2019</td>\n",
       "      <td>Jan</td>\n",
       "      <td>5</td>\n",
       "      <td>2267729</td>\n",
       "      <td>267729 (2003 FC5)</td>\n",
       "      <td>18.3</td>\n",
       "      <td>13.317079</td>\n",
       "      <td>5/01/2019</td>\n",
       "      <td>1.300289</td>\n",
       "      <td>0.581507</td>\n",
       "      <td>True</td>\n",
       "      <td>3.724010e+07</td>\n",
       "      <td>Earth</td>\n",
       "    </tr>\n",
       "    <tr>\n",
       "      <th>...</th>\n",
       "      <td>...</td>\n",
       "      <td>...</td>\n",
       "      <td>...</td>\n",
       "      <td>...</td>\n",
       "      <td>...</td>\n",
       "      <td>...</td>\n",
       "      <td>...</td>\n",
       "      <td>...</td>\n",
       "      <td>...</td>\n",
       "      <td>...</td>\n",
       "      <td>...</td>\n",
       "      <td>...</td>\n",
       "      <td>...</td>\n",
       "    </tr>\n",
       "    <tr>\n",
       "      <th>4978</th>\n",
       "      <td>26/12/2019</td>\n",
       "      <td>Dec</td>\n",
       "      <td>26</td>\n",
       "      <td>2310442</td>\n",
       "      <td>310442 (2000 CH59)</td>\n",
       "      <td>19.9</td>\n",
       "      <td>12.273016</td>\n",
       "      <td>26/12/2019</td>\n",
       "      <td>0.622358</td>\n",
       "      <td>0.278327</td>\n",
       "      <td>True</td>\n",
       "      <td>7.291408e+06</td>\n",
       "      <td>Earth</td>\n",
       "    </tr>\n",
       "    <tr>\n",
       "      <th>4990</th>\n",
       "      <td>27/12/2019</td>\n",
       "      <td>Dec</td>\n",
       "      <td>27</td>\n",
       "      <td>2267221</td>\n",
       "      <td>267221 (2001 AD2)</td>\n",
       "      <td>19.7</td>\n",
       "      <td>25.924487</td>\n",
       "      <td>27/12/2019</td>\n",
       "      <td>0.682402</td>\n",
       "      <td>0.305179</td>\n",
       "      <td>True</td>\n",
       "      <td>2.097858e+07</td>\n",
       "      <td>Earth</td>\n",
       "    </tr>\n",
       "    <tr>\n",
       "      <th>4996</th>\n",
       "      <td>28/12/2019</td>\n",
       "      <td>Dec</td>\n",
       "      <td>28</td>\n",
       "      <td>2136849</td>\n",
       "      <td>136849 (1998 CS1)</td>\n",
       "      <td>17.6</td>\n",
       "      <td>32.012844</td>\n",
       "      <td>28/12/2019</td>\n",
       "      <td>1.794899</td>\n",
       "      <td>0.802703</td>\n",
       "      <td>True</td>\n",
       "      <td>6.997161e+07</td>\n",
       "      <td>Earth</td>\n",
       "    </tr>\n",
       "    <tr>\n",
       "      <th>5003</th>\n",
       "      <td>28/12/2019</td>\n",
       "      <td>Dec</td>\n",
       "      <td>28</td>\n",
       "      <td>3893728</td>\n",
       "      <td>(2019 WX4)</td>\n",
       "      <td>21.0</td>\n",
       "      <td>17.719711</td>\n",
       "      <td>28/12/2019</td>\n",
       "      <td>0.375008</td>\n",
       "      <td>0.167708</td>\n",
       "      <td>True</td>\n",
       "      <td>4.165681e+07</td>\n",
       "      <td>Earth</td>\n",
       "    </tr>\n",
       "    <tr>\n",
       "      <th>5044</th>\n",
       "      <td>31/12/2019</td>\n",
       "      <td>Dec</td>\n",
       "      <td>31</td>\n",
       "      <td>2006239</td>\n",
       "      <td>6239 Minos (1989 QF)</td>\n",
       "      <td>18.5</td>\n",
       "      <td>9.007412</td>\n",
       "      <td>31/12/2019</td>\n",
       "      <td>1.185878</td>\n",
       "      <td>0.530341</td>\n",
       "      <td>True</td>\n",
       "      <td>6.346829e+07</td>\n",
       "      <td>Earth</td>\n",
       "    </tr>\n",
       "  </tbody>\n",
       "</table>\n",
       "<p>409 rows × 13 columns</p>\n",
       "</div>"
      ],
      "text/plain": [
       "            Date Month  Day       ID                  Name  \\\n",
       "2      1/01/2019   Jan    1  3398652           (2007 YQ56)   \n",
       "8      1/01/2019   Jan    1  2527715    527715 (2007 YQ56)   \n",
       "32     3/01/2019   Jan    3  2357022     357022 (1999 YG3)   \n",
       "38     4/01/2019   Jan    4  3263453           (2004 XP14)   \n",
       "55     5/01/2019   Jan    5  2267729     267729 (2003 FC5)   \n",
       "...          ...   ...  ...      ...                   ...   \n",
       "4978  26/12/2019   Dec   26  2310442    310442 (2000 CH59)   \n",
       "4990  27/12/2019   Dec   27  2267221     267221 (2001 AD2)   \n",
       "4996  28/12/2019   Dec   28  2136849     136849 (1998 CS1)   \n",
       "5003  28/12/2019   Dec   28  3893728            (2019 WX4)   \n",
       "5044  31/12/2019   Dec   31  2006239  6239 Minos (1989 QF)   \n",
       "\n",
       "      Absolute Magnitude  Relative Velocity (k/s) Close Approach Date  \\\n",
       "2                   19.9                15.429487           1/01/2019   \n",
       "8                   19.9                15.429488           1/01/2019   \n",
       "32                  19.0                25.901881           3/01/2019   \n",
       "38                  19.4                17.176591           4/01/2019   \n",
       "55                  18.3                13.317079           5/01/2019   \n",
       "...                  ...                      ...                 ...   \n",
       "4978                19.9                12.273016          26/12/2019   \n",
       "4990                19.7                25.924487          27/12/2019   \n",
       "4996                17.6                32.012844          28/12/2019   \n",
       "5003                21.0                17.719711          28/12/2019   \n",
       "5044                18.5                 9.007412          31/12/2019   \n",
       "\n",
       "      Estimated Max Diameter  Estimated Min Diameter  Potentially Hazardous?  \\\n",
       "2                   0.622358                0.278327                    True   \n",
       "8                   0.622358                0.278327                    True   \n",
       "32                  0.941976                0.421265                    True   \n",
       "38                  0.783502                0.350393                    True   \n",
       "55                  1.300289                0.581507                    True   \n",
       "...                      ...                     ...                     ...   \n",
       "4978                0.622358                0.278327                    True   \n",
       "4990                0.682402                0.305179                    True   \n",
       "4996                1.794899                0.802703                    True   \n",
       "5003                0.375008                0.167708                    True   \n",
       "5044                1.185878                0.530341                    True   \n",
       "\n",
       "      Miss Distance (km) Orbiting Body  \n",
       "2           1.144099e+07         Earth  \n",
       "8           1.144099e+07         Earth  \n",
       "32          4.865035e+07         Earth  \n",
       "38          1.093730e+07         Earth  \n",
       "55          3.724010e+07         Earth  \n",
       "...                  ...           ...  \n",
       "4978        7.291408e+06         Earth  \n",
       "4990        2.097858e+07         Earth  \n",
       "4996        6.997161e+07         Earth  \n",
       "5003        4.165681e+07         Earth  \n",
       "5044        6.346829e+07         Earth  \n",
       "\n",
       "[409 rows x 13 columns]"
      ]
     },
     "execution_count": 118,
     "metadata": {},
     "output_type": "execute_result"
    }
   ],
   "source": [
    "Pos_Hazard"
   ]
  },
  {
   "cell_type": "code",
   "execution_count": 157,
   "metadata": {},
   "outputs": [],
   "source": [
    "\n",
    "#plt.pie(Asteroids[\"Potentially Hazardous?\"])"
   ]
  },
  {
   "cell_type": "code",
   "execution_count": 181,
   "metadata": {},
   "outputs": [
    {
     "data": {
      "text/plain": [
       "17.922574975584343"
      ]
     },
     "execution_count": 181,
     "metadata": {},
     "output_type": "execute_result"
    }
   ],
   "source": [
    "mean_mag=Pos_Hazard[\"Absolute Magnitude\"].mean()\n",
    "mean_Rvel=Pos_Hazard[\"Relative Velocity (k/s)\"].mean()\n",
    "mean_dia=Pos_Hazard[\"Estimated Max Diameter\"].mean()\n",
    "mean_Rvel"
   ]
  },
  {
   "cell_type": "code",
   "execution_count": 187,
   "metadata": {},
   "outputs": [
    {
     "data": {
      "text/plain": [
       "1437917.792"
      ]
     },
     "execution_count": 187,
     "metadata": {},
     "output_type": "execute_result"
    }
   ],
   "source": [
    "max_mag=Pos_Hazard[\"Absolute Magnitude\"].max()\n",
    "max_Rvel=Pos_Hazard[\"Relative Velocity (k/s)\"].max()\n",
    "max_dia=Pos_Hazard[\"Estimated Max Diameter\"].max()\n",
    "min_miss_dis=Pos_Hazard[\"Miss Distance (km)\"].min()\n",
    "min_dia=Pos_Hazard[\"Estimated Max Diameter\"].min()\n",
    "min_miss_dis"
   ]
  },
  {
   "cell_type": "code",
   "execution_count": 210,
   "metadata": {},
   "outputs": [],
   "source": [
    "PH_Table= {\"Mean H\": mean_mag,\n",
    "           \" Mean Relative Velocity (k/s)\": mean_Rvel,\n",
    "           \"Mean Max Diameter (km)\": mean_dia,\n",
    "           \"Max H\": max_mag, \n",
    "           \"Max Velocity (km/s)\": max_Rvel, \n",
    "           \"Max Diameter (km)\": max_dia,\n",
    "           \"Min Diameter (km)\": min_dia, \n",
    "           \"Min Miss Distance (km)\": min_miss_dis }"
   ]
  },
  {
   "cell_type": "code",
   "execution_count": 217,
   "metadata": {},
   "outputs": [],
   "source": [
    "PH_Table_df=pd.DataFrame([PH_Table])"
   ]
  },
  {
   "cell_type": "code",
   "execution_count": 125,
   "metadata": {},
   "outputs": [
    {
     "data": {
      "text/html": [
       "<div>\n",
       "<style scoped>\n",
       "    .dataframe tbody tr th:only-of-type {\n",
       "        vertical-align: middle;\n",
       "    }\n",
       "\n",
       "    .dataframe tbody tr th {\n",
       "        vertical-align: top;\n",
       "    }\n",
       "\n",
       "    .dataframe thead th {\n",
       "        text-align: right;\n",
       "    }\n",
       "</style>\n",
       "<table border=\"1\" class=\"dataframe\">\n",
       "  <thead>\n",
       "    <tr style=\"text-align: right;\">\n",
       "      <th></th>\n",
       "      <th>Date</th>\n",
       "      <th>Month</th>\n",
       "      <th>Day</th>\n",
       "      <th>ID</th>\n",
       "      <th>Name</th>\n",
       "      <th>Absolute Magnitude</th>\n",
       "      <th>Relative Velocity (k/s)</th>\n",
       "      <th>Close Approach Date</th>\n",
       "      <th>Estimated Max Diameter</th>\n",
       "      <th>Estimated Min Diameter</th>\n",
       "      <th>Potentially Hazardous?</th>\n",
       "      <th>Miss Distance (km)</th>\n",
       "      <th>Orbiting Body</th>\n",
       "    </tr>\n",
       "  </thead>\n",
       "  <tbody>\n",
       "    <tr>\n",
       "      <th>3080</th>\n",
       "      <td>31/08/2019</td>\n",
       "      <td>Aug</td>\n",
       "      <td>31</td>\n",
       "      <td>2001620</td>\n",
       "      <td>1620 Geographos (1951 RA)</td>\n",
       "      <td>15.3</td>\n",
       "      <td>15.283542</td>\n",
       "      <td>31/08/2019</td>\n",
       "      <td>5.176545</td>\n",
       "      <td>2.315021</td>\n",
       "      <td>True</td>\n",
       "      <td>20533455.84</td>\n",
       "      <td>Earth</td>\n",
       "    </tr>\n",
       "  </tbody>\n",
       "</table>\n",
       "</div>"
      ],
      "text/plain": [
       "            Date Month  Day       ID                       Name  \\\n",
       "3080  31/08/2019   Aug   31  2001620  1620 Geographos (1951 RA)   \n",
       "\n",
       "      Absolute Magnitude  Relative Velocity (k/s) Close Approach Date  \\\n",
       "3080                15.3                15.283542          31/08/2019   \n",
       "\n",
       "      Estimated Max Diameter  Estimated Min Diameter  Potentially Hazardous?  \\\n",
       "3080                5.176545                2.315021                    True   \n",
       "\n",
       "      Miss Distance (km) Orbiting Body  \n",
       "3080         20533455.84         Earth  "
      ]
     },
     "execution_count": 125,
     "metadata": {},
     "output_type": "execute_result"
    }
   ],
   "source": [
    "Largest_Asteroid=Pos_Hazard.loc[Pos_Hazard[\"Estimated Max Diameter\"]== max_dia]\n",
    "Largest_Asteroid"
   ]
  },
  {
   "cell_type": "code",
   "execution_count": null,
   "metadata": {},
   "outputs": [],
   "source": []
  },
  {
   "cell_type": "code",
   "execution_count": 129,
   "metadata": {},
   "outputs": [
    {
     "data": {
      "text/html": [
       "<div>\n",
       "<style scoped>\n",
       "    .dataframe tbody tr th:only-of-type {\n",
       "        vertical-align: middle;\n",
       "    }\n",
       "\n",
       "    .dataframe tbody tr th {\n",
       "        vertical-align: top;\n",
       "    }\n",
       "\n",
       "    .dataframe thead th {\n",
       "        text-align: right;\n",
       "    }\n",
       "</style>\n",
       "<table border=\"1\" class=\"dataframe\">\n",
       "  <thead>\n",
       "    <tr style=\"text-align: right;\">\n",
       "      <th></th>\n",
       "      <th>Date</th>\n",
       "      <th>Month</th>\n",
       "      <th>Day</th>\n",
       "      <th>ID</th>\n",
       "      <th>Name</th>\n",
       "      <th>Absolute Magnitude</th>\n",
       "      <th>Relative Velocity (k/s)</th>\n",
       "      <th>Close Approach Date</th>\n",
       "      <th>Estimated Max Diameter</th>\n",
       "      <th>Estimated Min Diameter</th>\n",
       "      <th>Potentially Hazardous?</th>\n",
       "      <th>Miss Distance (km)</th>\n",
       "      <th>Orbiting Body</th>\n",
       "    </tr>\n",
       "  </thead>\n",
       "  <tbody>\n",
       "    <tr>\n",
       "      <th>4422</th>\n",
       "      <td>13/11/2019</td>\n",
       "      <td>Nov</td>\n",
       "      <td>13</td>\n",
       "      <td>3888754</td>\n",
       "      <td>(2019 UN12)</td>\n",
       "      <td>22.0</td>\n",
       "      <td>28.816397</td>\n",
       "      <td>13/11/2019</td>\n",
       "      <td>0.236614</td>\n",
       "      <td>0.105817</td>\n",
       "      <td>True</td>\n",
       "      <td>1437917.792</td>\n",
       "      <td>Earth</td>\n",
       "    </tr>\n",
       "  </tbody>\n",
       "</table>\n",
       "</div>"
      ],
      "text/plain": [
       "            Date Month  Day       ID         Name  Absolute Magnitude  \\\n",
       "4422  13/11/2019   Nov   13  3888754  (2019 UN12)                22.0   \n",
       "\n",
       "      Relative Velocity (k/s) Close Approach Date  Estimated Max Diameter  \\\n",
       "4422                28.816397          13/11/2019                0.236614   \n",
       "\n",
       "      Estimated Min Diameter  Potentially Hazardous?  Miss Distance (km)  \\\n",
       "4422                0.105817                    True         1437917.792   \n",
       "\n",
       "     Orbiting Body  \n",
       "4422         Earth  "
      ]
     },
     "execution_count": 129,
     "metadata": {},
     "output_type": "execute_result"
    }
   ],
   "source": [
    "Closest_Asteroid=Pos_Hazard.loc[Pos_Hazard[\"Miss Distance (km)\"]== min_miss_dis]\n",
    "Closest_Asteroid"
   ]
  },
  {
   "cell_type": "code",
   "execution_count": 316,
   "metadata": {},
   "outputs": [
    {
     "data": {
      "text/plain": [
       "Text(0.5, 1.0, 'Estimated Max Diameter vs Miss Distance (km)')"
      ]
     },
     "execution_count": 316,
     "metadata": {},
     "output_type": "execute_result"
    },
    {
     "data": {
      "image/png": "[encoded data removed]",
      "text/plain": [
       "<Figure size 432x288 with 1 Axes>"
      ]
     },
     "metadata": {
      "needs_background": "light"
     },
     "output_type": "display_data"
    }
   ],
   "source": [
    "plt.scatter(Pos_Hazard[\"Miss Distance (km)\"], Pos_Hazard[\"Estimated Max Diameter\"], color=\"maroon\", edgecolors=\"black\")\n",
    "plt.xlabel(\"Miss Distance (km)\")\n",
    "plt.ylabel(\"Estimated Max Diameter\")\n",
    "plt.title(\"Estimated Max Diameter vs Miss Distance (km)\")"
   ]
  },
  {
   "cell_type": "code",
   "execution_count": 317,
   "metadata": {},
   "outputs": [
    {
     "data": {
      "text/plain": [
       "Text(0.5, 1.0, 'Relative Velocity (k/s)r vs Miss Distance (km)')"
      ]
     },
     "execution_count": 317,
     "metadata": {},
     "output_type": "execute_result"
    },
    {
     "data": {
      "image/png": "[encoded data removed]",
      "text/plain": [
       "<Figure size 432x288 with 1 Axes>"
      ]
     },
     "metadata": {
      "needs_background": "light"
     },
     "output_type": "display_data"
    }
   ],
   "source": [
    "plt.scatter(Pos_Hazard[\"Miss Distance (km)\"], Pos_Hazard[\"Relative Velocity (k/s)\"], color=\"maroon\", edgecolors=\"black\")\n",
    "plt.xlabel(\"Miss Distance (km)\")\n",
    "plt.ylabel(\"Relative Velocity (km/s)\")\n",
    "plt.title(\"Relative Velocity (k/s)r vs Miss Distance (km)\")"
   ]
  },
  {
   "cell_type": "code",
   "execution_count": 160,
   "metadata": {},
   "outputs": [
    {
     "data": {
      "text/html": [
       "<div>\n",
       "<style scoped>\n",
       "    .dataframe tbody tr th:only-of-type {\n",
       "        vertical-align: middle;\n",
       "    }\n",
       "\n",
       "    .dataframe tbody tr th {\n",
       "        vertical-align: top;\n",
       "    }\n",
       "\n",
       "    .dataframe thead th {\n",
       "        text-align: right;\n",
       "    }\n",
       "</style>\n",
       "<table border=\"1\" class=\"dataframe\">\n",
       "  <thead>\n",
       "    <tr style=\"text-align: right;\">\n",
       "      <th></th>\n",
       "      <th>Date</th>\n",
       "      <th>Month</th>\n",
       "      <th>Day</th>\n",
       "      <th>ID</th>\n",
       "      <th>Name</th>\n",
       "      <th>Absolute Magnitude</th>\n",
       "      <th>Relative Velocity (k/s)</th>\n",
       "      <th>Close Approach Date</th>\n",
       "      <th>Estimated Max Diameter</th>\n",
       "      <th>Estimated Min Diameter</th>\n",
       "      <th>Potentially Hazardous?</th>\n",
       "      <th>Miss Distance (km)</th>\n",
       "      <th>Orbiting Body</th>\n",
       "    </tr>\n",
       "  </thead>\n",
       "  <tbody>\n",
       "  </tbody>\n",
       "</table>\n",
       "</div>"
      ],
      "text/plain": [
       "Empty DataFrame\n",
       "Columns: [Date, Month, Day, ID, Name, Absolute Magnitude, Relative Velocity (k/s), Close Approach Date, Estimated Max Diameter, Estimated Min Diameter, Potentially Hazardous?, Miss Distance (km), Orbiting Body]\n",
       "Index: []"
      ]
     },
     "execution_count": 160,
     "metadata": {},
     "output_type": "execute_result"
    }
   ],
   "source": [
    "Orbits=Asteroids.loc[Asteroids[\"Orbiting Body\"] != \"Earth\"]\n",
    "Orbits"
   ]
  },
  {
   "cell_type": "code",
   "execution_count": 271,
   "metadata": {},
   "outputs": [
    {
     "data": {
      "image/png": "[encoded data removed]",
      "text/plain": [
       "<Figure size 432x288 with 1 Axes>"
      ]
     },
     "metadata": {
      "needs_background": "light"
     },
     "output_type": "display_data"
    }
   ],
   "source": [
    "Asteroids_Months=Pos_Hazard.groupby(\"Month\")\n",
    "\n",
    "A_count=Asteroids_Months[\"ID\"].nunique()\n",
    "\n",
    "\n",
    "AbyMon=A_count.plot(kind=\"bar\", title=\"PH Asterids by Month\", color=\"maroon\")\n",
    "\n",
    "AbyMon.set_xlabel=(\"Month\")\n",
    "AbyMon.set_ylabel=(\"Asteroid count\")"
   ]
  },
  {
   "cell_type": "code",
   "execution_count": null,
   "metadata": {},
   "outputs": [],
   "source": []
  },
  {
   "cell_type": "code",
   "execution_count": 338,
   "metadata": {},
   "outputs": [
    {
     "ename": "TypeError",
     "evalue": "Invalid comparison between dtype=float64 and str",
     "output_type": "error",
     "traceback": [
      "\u001b[1;31m---------------------------------------------------------------------------\u001b[0m",
      "\u001b[1;31mTypeError\u001b[0m                                 Traceback (most recent call last)",
      "\u001b[1;32m<ipython-input-338-c9b4f6d35d14>\u001b[0m in \u001b[0;36m<module>\u001b[1;34m\u001b[0m\n\u001b[0;32m      3\u001b[0m \u001b[1;33m\u001b[0m\u001b[0m\n\u001b[0;32m      4\u001b[0m \u001b[1;33m\u001b[0m\u001b[0m\n\u001b[1;32m----> 5\u001b[1;33m \u001b[0mplt\u001b[0m\u001b[1;33m.\u001b[0m\u001b[0mviolinplot\u001b[0m\u001b[1;33m(\u001b[0m\u001b[0mMonth_rel_vol\u001b[0m\u001b[1;33m)\u001b[0m \u001b[1;31m# positions=None, vert=True, widths=0.5, showmeans=False, showextrema=True, showmedians=False, points=100, bw_method=None, data=None)\u001b[0m\u001b[1;33m\u001b[0m\u001b[1;33m\u001b[0m\u001b[0m\n\u001b[0m",
      "\u001b[1;32m~\\anaconda3\\envs\\PythonData\\lib\\site-packages\\matplotlib\\pyplot.py\u001b[0m in \u001b[0;36mviolinplot\u001b[1;34m(dataset, positions, vert, widths, showmeans, showextrema, showmedians, points, bw_method, data)\u001b[0m\n\u001b[0;32m   3026\u001b[0m         \u001b[0mshowmeans\u001b[0m\u001b[1;33m=\u001b[0m\u001b[0mshowmeans\u001b[0m\u001b[1;33m,\u001b[0m \u001b[0mshowextrema\u001b[0m\u001b[1;33m=\u001b[0m\u001b[0mshowextrema\u001b[0m\u001b[1;33m,\u001b[0m\u001b[1;33m\u001b[0m\u001b[1;33m\u001b[0m\u001b[0m\n\u001b[0;32m   3027\u001b[0m         \u001b[0mshowmedians\u001b[0m\u001b[1;33m=\u001b[0m\u001b[0mshowmedians\u001b[0m\u001b[1;33m,\u001b[0m \u001b[0mpoints\u001b[0m\u001b[1;33m=\u001b[0m\u001b[0mpoints\u001b[0m\u001b[1;33m,\u001b[0m \u001b[0mbw_method\u001b[0m\u001b[1;33m=\u001b[0m\u001b[0mbw_method\u001b[0m\u001b[1;33m,\u001b[0m\u001b[1;33m\u001b[0m\u001b[1;33m\u001b[0m\u001b[0m\n\u001b[1;32m-> 3028\u001b[1;33m         **({\"data\": data} if data is not None else {}))\n\u001b[0m\u001b[0;32m   3029\u001b[0m \u001b[1;33m\u001b[0m\u001b[0m\n\u001b[0;32m   3030\u001b[0m \u001b[1;33m\u001b[0m\u001b[0m\n",
      "\u001b[1;32m~\\anaconda3\\envs\\PythonData\\lib\\site-packages\\matplotlib\\__init__.py\u001b[0m in \u001b[0;36minner\u001b[1;34m(ax, data, *args, **kwargs)\u001b[0m\n\u001b[0;32m   1597\u001b[0m     \u001b[1;32mdef\u001b[0m \u001b[0minner\u001b[0m\u001b[1;33m(\u001b[0m\u001b[0max\u001b[0m\u001b[1;33m,\u001b[0m \u001b[1;33m*\u001b[0m\u001b[0margs\u001b[0m\u001b[1;33m,\u001b[0m \u001b[0mdata\u001b[0m\u001b[1;33m=\u001b[0m\u001b[1;32mNone\u001b[0m\u001b[1;33m,\u001b[0m \u001b[1;33m**\u001b[0m\u001b[0mkwargs\u001b[0m\u001b[1;33m)\u001b[0m\u001b[1;33m:\u001b[0m\u001b[1;33m\u001b[0m\u001b[1;33m\u001b[0m\u001b[0m\n\u001b[0;32m   1598\u001b[0m         \u001b[1;32mif\u001b[0m \u001b[0mdata\u001b[0m \u001b[1;32mis\u001b[0m \u001b[1;32mNone\u001b[0m\u001b[1;33m:\u001b[0m\u001b[1;33m\u001b[0m\u001b[1;33m\u001b[0m\u001b[0m\n\u001b[1;32m-> 1599\u001b[1;33m             \u001b[1;32mreturn\u001b[0m \u001b[0mfunc\u001b[0m\u001b[1;33m(\u001b[0m\u001b[0max\u001b[0m\u001b[1;33m,\u001b[0m \u001b[1;33m*\u001b[0m\u001b[0mmap\u001b[0m\u001b[1;33m(\u001b[0m\u001b[0msanitize_sequence\u001b[0m\u001b[1;33m,\u001b[0m \u001b[0margs\u001b[0m\u001b[1;33m)\u001b[0m\u001b[1;33m,\u001b[0m \u001b[1;33m**\u001b[0m\u001b[0mkwargs\u001b[0m\u001b[1;33m)\u001b[0m\u001b[1;33m\u001b[0m\u001b[1;33m\u001b[0m\u001b[0m\n\u001b[0m\u001b[0;32m   1600\u001b[0m \u001b[1;33m\u001b[0m\u001b[0m\n\u001b[0;32m   1601\u001b[0m         \u001b[0mbound\u001b[0m \u001b[1;33m=\u001b[0m \u001b[0mnew_sig\u001b[0m\u001b[1;33m.\u001b[0m\u001b[0mbind\u001b[0m\u001b[1;33m(\u001b[0m\u001b[0max\u001b[0m\u001b[1;33m,\u001b[0m \u001b[1;33m*\u001b[0m\u001b[0margs\u001b[0m\u001b[1;33m,\u001b[0m \u001b[1;33m**\u001b[0m\u001b[0mkwargs\u001b[0m\u001b[1;33m)\u001b[0m\u001b[1;33m\u001b[0m\u001b[1;33m\u001b[0m\u001b[0m\n",
      "\u001b[1;32m~\\anaconda3\\envs\\PythonData\\lib\\site-packages\\matplotlib\\axes\\_axes.py\u001b[0m in \u001b[0;36mviolinplot\u001b[1;34m(self, dataset, positions, vert, widths, showmeans, showextrema, showmedians, points, bw_method)\u001b[0m\n\u001b[0;32m   8052\u001b[0m             \u001b[1;32mreturn\u001b[0m \u001b[0mkde\u001b[0m\u001b[1;33m.\u001b[0m\u001b[0mevaluate\u001b[0m\u001b[1;33m(\u001b[0m\u001b[0mcoords\u001b[0m\u001b[1;33m)\u001b[0m\u001b[1;33m\u001b[0m\u001b[1;33m\u001b[0m\u001b[0m\n\u001b[0;32m   8053\u001b[0m \u001b[1;33m\u001b[0m\u001b[0m\n\u001b[1;32m-> 8054\u001b[1;33m         \u001b[0mvpstats\u001b[0m \u001b[1;33m=\u001b[0m \u001b[0mcbook\u001b[0m\u001b[1;33m.\u001b[0m\u001b[0mviolin_stats\u001b[0m\u001b[1;33m(\u001b[0m\u001b[0mdataset\u001b[0m\u001b[1;33m,\u001b[0m \u001b[0m_kde_method\u001b[0m\u001b[1;33m,\u001b[0m \u001b[0mpoints\u001b[0m\u001b[1;33m=\u001b[0m\u001b[0mpoints\u001b[0m\u001b[1;33m)\u001b[0m\u001b[1;33m\u001b[0m\u001b[1;33m\u001b[0m\u001b[0m\n\u001b[0m\u001b[0;32m   8055\u001b[0m         return self.violin(vpstats, positions=positions, vert=vert,\n\u001b[0;32m   8056\u001b[0m                            \u001b[0mwidths\u001b[0m\u001b[1;33m=\u001b[0m\u001b[0mwidths\u001b[0m\u001b[1;33m,\u001b[0m \u001b[0mshowmeans\u001b[0m\u001b[1;33m=\u001b[0m\u001b[0mshowmeans\u001b[0m\u001b[1;33m,\u001b[0m\u001b[1;33m\u001b[0m\u001b[1;33m\u001b[0m\u001b[0m\n",
      "\u001b[1;32m~\\anaconda3\\envs\\PythonData\\lib\\site-packages\\matplotlib\\cbook\\__init__.py\u001b[0m in \u001b[0;36mviolin_stats\u001b[1;34m(X, method, points)\u001b[0m\n\u001b[0;32m   1511\u001b[0m \u001b[1;33m\u001b[0m\u001b[0m\n\u001b[0;32m   1512\u001b[0m         \u001b[1;31m# Calculate basic stats for the distribution\u001b[0m\u001b[1;33m\u001b[0m\u001b[1;33m\u001b[0m\u001b[1;33m\u001b[0m\u001b[0m\n\u001b[1;32m-> 1513\u001b[1;33m         \u001b[0mmin_val\u001b[0m \u001b[1;33m=\u001b[0m \u001b[0mnp\u001b[0m\u001b[1;33m.\u001b[0m\u001b[0mmin\u001b[0m\u001b[1;33m(\u001b[0m\u001b[0mx\u001b[0m\u001b[1;33m)\u001b[0m\u001b[1;33m\u001b[0m\u001b[1;33m\u001b[0m\u001b[0m\n\u001b[0m\u001b[0;32m   1514\u001b[0m         \u001b[0mmax_val\u001b[0m \u001b[1;33m=\u001b[0m \u001b[0mnp\u001b[0m\u001b[1;33m.\u001b[0m\u001b[0mmax\u001b[0m\u001b[1;33m(\u001b[0m\u001b[0mx\u001b[0m\u001b[1;33m)\u001b[0m\u001b[1;33m\u001b[0m\u001b[1;33m\u001b[0m\u001b[0m\n\u001b[0;32m   1515\u001b[0m \u001b[1;33m\u001b[0m\u001b[0m\n",
      "\u001b[1;32m<__array_function__ internals>\u001b[0m in \u001b[0;36mamin\u001b[1;34m(*args, **kwargs)\u001b[0m\n",
      "\u001b[1;32m~\\anaconda3\\envs\\PythonData\\lib\\site-packages\\numpy\\core\\fromnumeric.py\u001b[0m in \u001b[0;36mamin\u001b[1;34m(a, axis, out, keepdims, initial, where)\u001b[0m\n\u001b[0;32m   2791\u001b[0m     \"\"\"\n\u001b[0;32m   2792\u001b[0m     return _wrapreduction(a, np.minimum, 'min', axis, None, out,\n\u001b[1;32m-> 2793\u001b[1;33m                           keepdims=keepdims, initial=initial, where=where)\n\u001b[0m\u001b[0;32m   2794\u001b[0m \u001b[1;33m\u001b[0m\u001b[0m\n\u001b[0;32m   2795\u001b[0m \u001b[1;33m\u001b[0m\u001b[0m\n",
      "\u001b[1;32m~\\anaconda3\\envs\\PythonData\\lib\\site-packages\\numpy\\core\\fromnumeric.py\u001b[0m in \u001b[0;36m_wrapreduction\u001b[1;34m(obj, ufunc, method, axis, dtype, out, **kwargs)\u001b[0m\n\u001b[0;32m     88\u001b[0m                 \u001b[1;32mreturn\u001b[0m \u001b[0mreduction\u001b[0m\u001b[1;33m(\u001b[0m\u001b[0maxis\u001b[0m\u001b[1;33m=\u001b[0m\u001b[0maxis\u001b[0m\u001b[1;33m,\u001b[0m \u001b[0mout\u001b[0m\u001b[1;33m=\u001b[0m\u001b[0mout\u001b[0m\u001b[1;33m,\u001b[0m \u001b[1;33m**\u001b[0m\u001b[0mpasskwargs\u001b[0m\u001b[1;33m)\u001b[0m\u001b[1;33m\u001b[0m\u001b[1;33m\u001b[0m\u001b[0m\n\u001b[0;32m     89\u001b[0m \u001b[1;33m\u001b[0m\u001b[0m\n\u001b[1;32m---> 90\u001b[1;33m     \u001b[1;32mreturn\u001b[0m \u001b[0mufunc\u001b[0m\u001b[1;33m.\u001b[0m\u001b[0mreduce\u001b[0m\u001b[1;33m(\u001b[0m\u001b[0mobj\u001b[0m\u001b[1;33m,\u001b[0m \u001b[0maxis\u001b[0m\u001b[1;33m,\u001b[0m \u001b[0mdtype\u001b[0m\u001b[1;33m,\u001b[0m \u001b[0mout\u001b[0m\u001b[1;33m,\u001b[0m \u001b[1;33m**\u001b[0m\u001b[0mpasskwargs\u001b[0m\u001b[1;33m)\u001b[0m\u001b[1;33m\u001b[0m\u001b[1;33m\u001b[0m\u001b[0m\n\u001b[0m\u001b[0;32m     91\u001b[0m \u001b[1;33m\u001b[0m\u001b[0m\n\u001b[0;32m     92\u001b[0m \u001b[1;33m\u001b[0m\u001b[0m\n",
      "\u001b[1;32m~\\anaconda3\\envs\\PythonData\\lib\\site-packages\\pandas\\core\\ops\\common.py\u001b[0m in \u001b[0;36mnew_method\u001b[1;34m(self, other)\u001b[0m\n\u001b[0;32m     62\u001b[0m         \u001b[0mother\u001b[0m \u001b[1;33m=\u001b[0m \u001b[0mitem_from_zerodim\u001b[0m\u001b[1;33m(\u001b[0m\u001b[0mother\u001b[0m\u001b[1;33m)\u001b[0m\u001b[1;33m\u001b[0m\u001b[1;33m\u001b[0m\u001b[0m\n\u001b[0;32m     63\u001b[0m \u001b[1;33m\u001b[0m\u001b[0m\n\u001b[1;32m---> 64\u001b[1;33m         \u001b[1;32mreturn\u001b[0m \u001b[0mmethod\u001b[0m\u001b[1;33m(\u001b[0m\u001b[0mself\u001b[0m\u001b[1;33m,\u001b[0m \u001b[0mother\u001b[0m\u001b[1;33m)\u001b[0m\u001b[1;33m\u001b[0m\u001b[1;33m\u001b[0m\u001b[0m\n\u001b[0m\u001b[0;32m     65\u001b[0m \u001b[1;33m\u001b[0m\u001b[0m\n\u001b[0;32m     66\u001b[0m     \u001b[1;32mreturn\u001b[0m \u001b[0mnew_method\u001b[0m\u001b[1;33m\u001b[0m\u001b[1;33m\u001b[0m\u001b[0m\n",
      "\u001b[1;32m~\\anaconda3\\envs\\PythonData\\lib\\site-packages\\pandas\\core\\ops\\__init__.py\u001b[0m in \u001b[0;36mwrapper\u001b[1;34m(self, other)\u001b[0m\n\u001b[0;32m    527\u001b[0m         \u001b[0mrvalues\u001b[0m \u001b[1;33m=\u001b[0m \u001b[0mextract_array\u001b[0m\u001b[1;33m(\u001b[0m\u001b[0mother\u001b[0m\u001b[1;33m,\u001b[0m \u001b[0mextract_numpy\u001b[0m\u001b[1;33m=\u001b[0m\u001b[1;32mTrue\u001b[0m\u001b[1;33m)\u001b[0m\u001b[1;33m\u001b[0m\u001b[1;33m\u001b[0m\u001b[0m\n\u001b[0;32m    528\u001b[0m \u001b[1;33m\u001b[0m\u001b[0m\n\u001b[1;32m--> 529\u001b[1;33m         \u001b[0mres_values\u001b[0m \u001b[1;33m=\u001b[0m \u001b[0mcomparison_op\u001b[0m\u001b[1;33m(\u001b[0m\u001b[0mlvalues\u001b[0m\u001b[1;33m,\u001b[0m \u001b[0mrvalues\u001b[0m\u001b[1;33m,\u001b[0m \u001b[0mop\u001b[0m\u001b[1;33m)\u001b[0m\u001b[1;33m\u001b[0m\u001b[1;33m\u001b[0m\u001b[0m\n\u001b[0m\u001b[0;32m    530\u001b[0m \u001b[1;33m\u001b[0m\u001b[0m\n\u001b[0;32m    531\u001b[0m         \u001b[1;32mreturn\u001b[0m \u001b[0m_construct_result\u001b[0m\u001b[1;33m(\u001b[0m\u001b[0mself\u001b[0m\u001b[1;33m,\u001b[0m \u001b[0mres_values\u001b[0m\u001b[1;33m,\u001b[0m \u001b[0mindex\u001b[0m\u001b[1;33m=\u001b[0m\u001b[0mself\u001b[0m\u001b[1;33m.\u001b[0m\u001b[0mindex\u001b[0m\u001b[1;33m,\u001b[0m \u001b[0mname\u001b[0m\u001b[1;33m=\u001b[0m\u001b[0mres_name\u001b[0m\u001b[1;33m)\u001b[0m\u001b[1;33m\u001b[0m\u001b[1;33m\u001b[0m\u001b[0m\n",
      "\u001b[1;32m~\\anaconda3\\envs\\PythonData\\lib\\site-packages\\pandas\\core\\ops\\array_ops.py\u001b[0m in \u001b[0;36mcomparison_op\u001b[1;34m(left, right, op)\u001b[0m\n\u001b[0;32m    254\u001b[0m \u001b[1;33m\u001b[0m\u001b[0m\n\u001b[0;32m    255\u001b[0m         \u001b[1;32mif\u001b[0m \u001b[0mres_values\u001b[0m \u001b[1;32mis\u001b[0m \u001b[0mNotImplemented\u001b[0m\u001b[1;33m:\u001b[0m\u001b[1;33m\u001b[0m\u001b[1;33m\u001b[0m\u001b[0m\n\u001b[1;32m--> 256\u001b[1;33m             \u001b[0mres_values\u001b[0m \u001b[1;33m=\u001b[0m \u001b[0minvalid_comparison\u001b[0m\u001b[1;33m(\u001b[0m\u001b[0mlvalues\u001b[0m\u001b[1;33m,\u001b[0m \u001b[0mrvalues\u001b[0m\u001b[1;33m,\u001b[0m \u001b[0mop\u001b[0m\u001b[1;33m)\u001b[0m\u001b[1;33m\u001b[0m\u001b[1;33m\u001b[0m\u001b[0m\n\u001b[0m\u001b[0;32m    257\u001b[0m         \u001b[1;32mif\u001b[0m \u001b[0mis_scalar\u001b[0m\u001b[1;33m(\u001b[0m\u001b[0mres_values\u001b[0m\u001b[1;33m)\u001b[0m\u001b[1;33m:\u001b[0m\u001b[1;33m\u001b[0m\u001b[1;33m\u001b[0m\u001b[0m\n\u001b[0;32m    258\u001b[0m             \u001b[0mtyp\u001b[0m \u001b[1;33m=\u001b[0m \u001b[0mtype\u001b[0m\u001b[1;33m(\u001b[0m\u001b[0mrvalues\u001b[0m\u001b[1;33m)\u001b[0m\u001b[1;33m\u001b[0m\u001b[1;33m\u001b[0m\u001b[0m\n",
      "\u001b[1;32m~\\anaconda3\\envs\\PythonData\\lib\\site-packages\\pandas\\core\\ops\\invalid.py\u001b[0m in \u001b[0;36minvalid_comparison\u001b[1;34m(left, right, op)\u001b[0m\n\u001b[0;32m     32\u001b[0m     \u001b[1;32melse\u001b[0m\u001b[1;33m:\u001b[0m\u001b[1;33m\u001b[0m\u001b[1;33m\u001b[0m\u001b[0m\n\u001b[0;32m     33\u001b[0m         \u001b[0mtyp\u001b[0m \u001b[1;33m=\u001b[0m \u001b[0mtype\u001b[0m\u001b[1;33m(\u001b[0m\u001b[0mright\u001b[0m\u001b[1;33m)\u001b[0m\u001b[1;33m.\u001b[0m\u001b[0m__name__\u001b[0m\u001b[1;33m\u001b[0m\u001b[1;33m\u001b[0m\u001b[0m\n\u001b[1;32m---> 34\u001b[1;33m         \u001b[1;32mraise\u001b[0m \u001b[0mTypeError\u001b[0m\u001b[1;33m(\u001b[0m\u001b[1;34mf\"Invalid comparison between dtype={left.dtype} and {typ}\"\u001b[0m\u001b[1;33m)\u001b[0m\u001b[1;33m\u001b[0m\u001b[1;33m\u001b[0m\u001b[0m\n\u001b[0m\u001b[0;32m     35\u001b[0m     \u001b[1;32mreturn\u001b[0m \u001b[0mres_values\u001b[0m\u001b[1;33m\u001b[0m\u001b[1;33m\u001b[0m\u001b[0m\n\u001b[0;32m     36\u001b[0m \u001b[1;33m\u001b[0m\u001b[0m\n",
      "\u001b[1;31mTypeError\u001b[0m: Invalid comparison between dtype=float64 and str"
     ]
    },
    {
     "data": {
      "image/png": "[encoded data removed]",
      "text/plain": [
       "<Figure size 432x288 with 1 Axes>"
      ]
     },
     "metadata": {
      "needs_background": "light"
     },
     "output_type": "display_data"
    }
   ],
   "source": [
    "Month_rel_vol=Asteroids_Months[\"Relative Velocity (k/s)\"]\n",
    "Month_rel_vol\n",
    "\n",
    "\n",
    "#plt.violinplot(Month_rel_vol) # positions=None, vert=True, widths=0.5, showmeans=False, showextrema=True, showmedians=False, points=100, bw_method=None, data=None)"
   ]
  },
  {
   "cell_type": "code",
   "execution_count": 245,
   "metadata": {},
   "outputs": [
    {
     "data": {
      "text/plain": [
       "Month\n",
       "Apr    17.167924\n",
       "Aug    16.643399\n",
       "Dec    21.115822\n",
       "Feb    17.029790\n",
       "Jan    18.218766\n",
       "Jul    19.654670\n",
       "Jun    19.489563\n",
       "Mar    15.456960\n",
       "May    16.795694\n",
       "Nov    17.416689\n",
       "Oct    20.221738\n",
       "Sep    17.140743\n",
       "Name: Relative Velocity (k/s), dtype: float64"
      ]
     },
     "execution_count": 245,
     "metadata": {},
     "output_type": "execute_result"
    }
   ],
   "source": [
    "Month_rel_vol"
   ]
  },
  {
   "cell_type": "code",
   "execution_count": 281,
   "metadata": {},
   "outputs": [
    {
     "data": {
      "image/png": "[encoded data removed]",
      "text/plain": [
       "<Figure size 432x288 with 1 Axes>"
      ]
     },
     "metadata": {
      "needs_background": "light"
     },
     "output_type": "display_data"
    }
   ],
   "source": [
    "Asteroids_Months1=Asteroids.groupby(\"Month\")\n",
    "\n",
    "ALL_count_2=Asteroids_Months1[\"ID\"].nunique()\n",
    "\n",
    "\n",
    "Asteroids_Months_plot=ALL_count_2.plot(kind=\"bar\", title=\"Asteroids by Month\", color=\"darkslategray\")\n",
    "Asteroids_Months_plot.set_xlabel=(\"Month\")\n",
    "Asteroids_Months_plot.set_ylabel=(\"Asteroid count\")"
   ]
  },
  {
   "cell_type": "code",
   "execution_count": 283,
   "metadata": {},
   "outputs": [
    {
     "data": {
      "image/png": "[encoded data removed]",
      "text/plain": [
       "<Figure size 432x288 with 1 Axes>"
      ]
     },
     "metadata": {
      "needs_background": "light"
     },
     "output_type": "display_data"
    }
   ],
   "source": [
    "Asteroids_Months=Pos_Hazard.groupby(\"Month\")\n",
    "\n",
    "A_count=Asteroids_Months[\"ID\"].nunique()\n",
    "\n",
    "\n",
    "AbyMon=A_count.plot(kind=\"bar\", title=\"PH Asterids by Month\", color=\"maroon\")\n",
    "\n",
    "AbyMon.set_xlabel=(\"Month\")\n",
    "AbyMon.set_ylabel=(\"Asteroid count\")"
   ]
  },
  {
   "cell_type": "code",
   "execution_count": 301,
   "metadata": {},
   "outputs": [],
   "source": [
    "Months =[\"Jan\", \"Feb\", \"Mar\", \"Apr\", \"May\", \"Jun\", \"Jul\", \"Aug\", \"Sep\", \"Oct\", \"Nov\", \"Dec\"]\n",
    "As_Count = [411, 301,361,377,365,288,346,348,483,585,408,367]\n",
    "PH_count = [50,36,30,38,47,31,30,31,38,29,22,27]\n",
    "width=0.35"
   ]
  },
  {
   "cell_type": "code",
   "execution_count": 308,
   "metadata": {},
   "outputs": [
    {
     "data": {
      "image/png": "[encoded data removed]",
      "text/plain": [
       "<Figure size 432x288 with 1 Axes>"
      ]
     },
     "metadata": {
      "needs_background": "light"
     },
     "output_type": "display_data"
    }
   ],
   "source": [
    "fig, ax = plt.subplots()\n",
    "\n",
    "ax.bar(Months, As_Count, width, label=\"All Asteroids\", color=\"Darkslategray\")\n",
    "ax.bar(Months, PH_count, width, label=\"PH Asteroids\" , color=\"maroon\")\n",
    "ax.set_ylabel(\"Asteroid Count\")\n",
    "ax.set_xlabel(\"Month\")\n",
    "ax.set_title(\"Asteroid Count\")\n",
    "ax.legend()\n",
    "plt.show()"
   ]
  },
  {
   "cell_type": "code",
   "execution_count": 337,
   "metadata": {},
   "outputs": [
    {
     "data": {
      "text/html": [
       "<div>\n",
       "<style scoped>\n",
       "    .dataframe tbody tr th:only-of-type {\n",
       "        vertical-align: middle;\n",
       "    }\n",
       "\n",
       "    .dataframe tbody tr th {\n",
       "        vertical-align: top;\n",
       "    }\n",
       "\n",
       "    .dataframe thead th {\n",
       "        text-align: right;\n",
       "    }\n",
       "</style>\n",
       "<table border=\"1\" class=\"dataframe\">\n",
       "  <thead>\n",
       "    <tr style=\"text-align: right;\">\n",
       "      <th></th>\n",
       "      <th>Date</th>\n",
       "      <th>Month</th>\n",
       "      <th>Day</th>\n",
       "      <th>Name</th>\n",
       "      <th>Absolute Magnitude</th>\n",
       "      <th>Relative Velocity (k/s)</th>\n",
       "      <th>Close Approach Date</th>\n",
       "      <th>Estimated Max Diameter</th>\n",
       "      <th>Estimated Min Diameter</th>\n",
       "      <th>Potentially Hazardous?</th>\n",
       "      <th>Miss Distance (km)</th>\n",
       "      <th>Orbiting Body</th>\n",
       "      <th>Duplicates</th>\n",
       "    </tr>\n",
       "    <tr>\n",
       "      <th>ID</th>\n",
       "      <th></th>\n",
       "      <th></th>\n",
       "      <th></th>\n",
       "      <th></th>\n",
       "      <th></th>\n",
       "      <th></th>\n",
       "      <th></th>\n",
       "      <th></th>\n",
       "      <th></th>\n",
       "      <th></th>\n",
       "      <th></th>\n",
       "      <th></th>\n",
       "      <th></th>\n",
       "    </tr>\n",
       "  </thead>\n",
       "  <tbody>\n",
       "    <tr>\n",
       "      <th>2002100</th>\n",
       "      <td>1</td>\n",
       "      <td>1</td>\n",
       "      <td>1</td>\n",
       "      <td>1</td>\n",
       "      <td>1</td>\n",
       "      <td>1</td>\n",
       "      <td>1</td>\n",
       "      <td>1</td>\n",
       "      <td>1</td>\n",
       "      <td>1</td>\n",
       "      <td>1</td>\n",
       "      <td>1</td>\n",
       "      <td>1</td>\n",
       "    </tr>\n",
       "    <tr>\n",
       "      <th>2052387</th>\n",
       "      <td>1</td>\n",
       "      <td>1</td>\n",
       "      <td>1</td>\n",
       "      <td>1</td>\n",
       "      <td>1</td>\n",
       "      <td>1</td>\n",
       "      <td>1</td>\n",
       "      <td>1</td>\n",
       "      <td>1</td>\n",
       "      <td>1</td>\n",
       "      <td>1</td>\n",
       "      <td>1</td>\n",
       "      <td>1</td>\n",
       "    </tr>\n",
       "    <tr>\n",
       "      <th>2068347</th>\n",
       "      <td>1</td>\n",
       "      <td>1</td>\n",
       "      <td>1</td>\n",
       "      <td>1</td>\n",
       "      <td>1</td>\n",
       "      <td>1</td>\n",
       "      <td>1</td>\n",
       "      <td>1</td>\n",
       "      <td>1</td>\n",
       "      <td>1</td>\n",
       "      <td>1</td>\n",
       "      <td>1</td>\n",
       "      <td>1</td>\n",
       "    </tr>\n",
       "    <tr>\n",
       "      <th>2085236</th>\n",
       "      <td>1</td>\n",
       "      <td>1</td>\n",
       "      <td>1</td>\n",
       "      <td>1</td>\n",
       "      <td>1</td>\n",
       "      <td>1</td>\n",
       "      <td>1</td>\n",
       "      <td>1</td>\n",
       "      <td>1</td>\n",
       "      <td>1</td>\n",
       "      <td>1</td>\n",
       "      <td>1</td>\n",
       "      <td>1</td>\n",
       "    </tr>\n",
       "    <tr>\n",
       "      <th>2090403</th>\n",
       "      <td>1</td>\n",
       "      <td>1</td>\n",
       "      <td>1</td>\n",
       "      <td>1</td>\n",
       "      <td>1</td>\n",
       "      <td>1</td>\n",
       "      <td>1</td>\n",
       "      <td>1</td>\n",
       "      <td>1</td>\n",
       "      <td>1</td>\n",
       "      <td>1</td>\n",
       "      <td>1</td>\n",
       "      <td>1</td>\n",
       "    </tr>\n",
       "    <tr>\n",
       "      <th>...</th>\n",
       "      <td>...</td>\n",
       "      <td>...</td>\n",
       "      <td>...</td>\n",
       "      <td>...</td>\n",
       "      <td>...</td>\n",
       "      <td>...</td>\n",
       "      <td>...</td>\n",
       "      <td>...</td>\n",
       "      <td>...</td>\n",
       "      <td>...</td>\n",
       "      <td>...</td>\n",
       "      <td>...</td>\n",
       "      <td>...</td>\n",
       "    </tr>\n",
       "    <tr>\n",
       "      <th>54017179</th>\n",
       "      <td>1</td>\n",
       "      <td>1</td>\n",
       "      <td>1</td>\n",
       "      <td>1</td>\n",
       "      <td>1</td>\n",
       "      <td>1</td>\n",
       "      <td>1</td>\n",
       "      <td>1</td>\n",
       "      <td>1</td>\n",
       "      <td>1</td>\n",
       "      <td>1</td>\n",
       "      <td>1</td>\n",
       "      <td>1</td>\n",
       "    </tr>\n",
       "    <tr>\n",
       "      <th>54017213</th>\n",
       "      <td>1</td>\n",
       "      <td>1</td>\n",
       "      <td>1</td>\n",
       "      <td>1</td>\n",
       "      <td>1</td>\n",
       "      <td>1</td>\n",
       "      <td>1</td>\n",
       "      <td>1</td>\n",
       "      <td>1</td>\n",
       "      <td>1</td>\n",
       "      <td>1</td>\n",
       "      <td>1</td>\n",
       "      <td>1</td>\n",
       "    </tr>\n",
       "    <tr>\n",
       "      <th>54017282</th>\n",
       "      <td>1</td>\n",
       "      <td>1</td>\n",
       "      <td>1</td>\n",
       "      <td>1</td>\n",
       "      <td>1</td>\n",
       "      <td>1</td>\n",
       "      <td>1</td>\n",
       "      <td>1</td>\n",
       "      <td>1</td>\n",
       "      <td>1</td>\n",
       "      <td>1</td>\n",
       "      <td>1</td>\n",
       "      <td>1</td>\n",
       "    </tr>\n",
       "    <tr>\n",
       "      <th>54017324</th>\n",
       "      <td>1</td>\n",
       "      <td>1</td>\n",
       "      <td>1</td>\n",
       "      <td>1</td>\n",
       "      <td>1</td>\n",
       "      <td>1</td>\n",
       "      <td>1</td>\n",
       "      <td>1</td>\n",
       "      <td>1</td>\n",
       "      <td>1</td>\n",
       "      <td>1</td>\n",
       "      <td>1</td>\n",
       "      <td>1</td>\n",
       "    </tr>\n",
       "    <tr>\n",
       "      <th>54017580</th>\n",
       "      <td>2</td>\n",
       "      <td>2</td>\n",
       "      <td>2</td>\n",
       "      <td>2</td>\n",
       "      <td>2</td>\n",
       "      <td>2</td>\n",
       "      <td>2</td>\n",
       "      <td>2</td>\n",
       "      <td>2</td>\n",
       "      <td>2</td>\n",
       "      <td>2</td>\n",
       "      <td>2</td>\n",
       "      <td>2</td>\n",
       "    </tr>\n",
       "  </tbody>\n",
       "</table>\n",
       "<p>514 rows × 13 columns</p>\n",
       "</div>"
      ],
      "text/plain": [
       "          Date  Month  Day  Name  Absolute Magnitude  Relative Velocity (k/s)  \\\n",
       "ID                                                                              \n",
       "2002100      1      1    1     1                   1                        1   \n",
       "2052387      1      1    1     1                   1                        1   \n",
       "2068347      1      1    1     1                   1                        1   \n",
       "2085236      1      1    1     1                   1                        1   \n",
       "2090403      1      1    1     1                   1                        1   \n",
       "...        ...    ...  ...   ...                 ...                      ...   \n",
       "54017179     1      1    1     1                   1                        1   \n",
       "54017213     1      1    1     1                   1                        1   \n",
       "54017282     1      1    1     1                   1                        1   \n",
       "54017324     1      1    1     1                   1                        1   \n",
       "54017580     2      2    2     2                   2                        2   \n",
       "\n",
       "          Close Approach Date  Estimated Max Diameter  Estimated Min Diameter  \\\n",
       "ID                                                                              \n",
       "2002100                     1                       1                       1   \n",
       "2052387                     1                       1                       1   \n",
       "2068347                     1                       1                       1   \n",
       "2085236                     1                       1                       1   \n",
       "2090403                     1                       1                       1   \n",
       "...                       ...                     ...                     ...   \n",
       "54017179                    1                       1                       1   \n",
       "54017213                    1                       1                       1   \n",
       "54017282                    1                       1                       1   \n",
       "54017324                    1                       1                       1   \n",
       "54017580                    2                       2                       2   \n",
       "\n",
       "          Potentially Hazardous?  Miss Distance (km)  Orbiting Body  \\\n",
       "ID                                                                    \n",
       "2002100                        1                   1              1   \n",
       "2052387                        1                   1              1   \n",
       "2068347                        1                   1              1   \n",
       "2085236                        1                   1              1   \n",
       "2090403                        1                   1              1   \n",
       "...                          ...                 ...            ...   \n",
       "54017179                       1                   1              1   \n",
       "54017213                       1                   1              1   \n",
       "54017282                       1                   1              1   \n",
       "54017324                       1                   1              1   \n",
       "54017580                       2                   2              2   \n",
       "\n",
       "          Duplicates  \n",
       "ID                    \n",
       "2002100            1  \n",
       "2052387            1  \n",
       "2068347            1  \n",
       "2085236            1  \n",
       "2090403            1  \n",
       "...              ...  \n",
       "54017179           1  \n",
       "54017213           1  \n",
       "54017282           1  \n",
       "54017324           1  \n",
       "54017580           2  \n",
       "\n",
       "[514 rows x 13 columns]"
      ]
     },
     "execution_count": 337,
     "metadata": {},
     "output_type": "execute_result"
    }
   ],
   "source": [
    "samsies=Asteroids.duplicated(\"ID\")\n",
    "samsies=samsies.loc[samsies == True]\n",
    "\n",
    "Asteroids[\"Duplicates\"]= samsies\n",
    "\n",
    "Duplicates = Asteroids.loc[Asteroids[\"Duplicates\"] == True, :]\n",
    "Dups_gups=Duplicates.groupby(\"ID\")\n",
    "Dups_gups.count()"
   ]
  },
  {
   "cell_type": "code",
   "execution_count": null,
   "metadata": {},
   "outputs": [],
   "source": []
  }
 ],
 "metadata": {
  "kernelspec": {
   "display_name": "Python [conda env:PythonData]",
   "language": "python",
   "name": "conda-env-PythonData-py"
  },
  "language_info": {
   "codemirror_mode": {
    "name": "ipython",
    "version": 3
   },
   "file_extension": ".py",
   "mimetype": "text/x-python",
   "name": "python",
   "nbconvert_exporter": "python",
   "pygments_lexer": "ipython3",
   "version": "3.6.10"
  }
 },
 "nbformat": 4,
 "nbformat_minor": 4
}
