{
 "cells": [
  {
   "cell_type": "code",
   "execution_count": 328,
   "metadata": {},
   "outputs": [],
   "source": [
    "import os\n",
    "import csv\n",
    "import pandas as pd\n",
    "import plotly.express as px\n",
    "#import plotly.io as pio\n",
    "import matplotlib.pyplot as plt\n",
    "file_to_load = \"Asteroid_dates.csv\"\n",
    "asteroid_data= pd.read_csv(file_to_load)"
   ]
  },
  {
   "cell_type": "code",
   "execution_count": 329,
   "metadata": {},
   "outputs": [
    {
     "data": {
      "text/html": [
       "<div>\n",
       "<style scoped>\n",
       "    .dataframe tbody tr th:only-of-type {\n",
       "        vertical-align: middle;\n",
       "    }\n",
       "\n",
       "    .dataframe tbody tr th {\n",
       "        vertical-align: top;\n",
       "    }\n",
       "\n",
       "    .dataframe thead th {\n",
       "        text-align: right;\n",
       "    }\n",
       "</style>\n",
       "<table border=\"1\" class=\"dataframe\">\n",
       "  <thead>\n",
       "    <tr style=\"text-align: right;\">\n",
       "      <th></th>\n",
       "      <th>Date</th>\n",
       "      <th>Month</th>\n",
       "      <th>Day</th>\n",
       "      <th>ID</th>\n",
       "      <th>Name</th>\n",
       "      <th>Absolute Magnitude</th>\n",
       "      <th>Relative Velocity (k/s)</th>\n",
       "      <th>Close Approach Date</th>\n",
       "      <th>Estimated Max Diameter</th>\n",
       "      <th>Estimated Min Diameter</th>\n",
       "      <th>Potentially Hazardous?</th>\n",
       "      <th>Miss Distance (km)</th>\n",
       "      <th>Orbiting Body</th>\n",
       "    </tr>\n",
       "  </thead>\n",
       "  <tbody>\n",
       "    <tr>\n",
       "      <th>0</th>\n",
       "      <td>1/01/2019</td>\n",
       "      <td>Jan</td>\n",
       "      <td>1</td>\n",
       "      <td>3837557</td>\n",
       "      <td>(2019 AN)</td>\n",
       "      <td>24.2</td>\n",
       "      <td>8.368577</td>\n",
       "      <td>1/01/2019</td>\n",
       "      <td>0.085909</td>\n",
       "      <td>0.038420</td>\n",
       "      <td>False</td>\n",
       "      <td>19108365.54</td>\n",
       "      <td>Earth</td>\n",
       "    </tr>\n",
       "    <tr>\n",
       "      <th>1</th>\n",
       "      <td>1/01/2019</td>\n",
       "      <td>Jan</td>\n",
       "      <td>1</td>\n",
       "      <td>3398654</td>\n",
       "      <td>(2007 YS56)</td>\n",
       "      <td>25.7</td>\n",
       "      <td>6.461135</td>\n",
       "      <td>1/01/2019</td>\n",
       "      <td>0.043057</td>\n",
       "      <td>0.019256</td>\n",
       "      <td>False</td>\n",
       "      <td>17987605.96</td>\n",
       "      <td>Earth</td>\n",
       "    </tr>\n",
       "    <tr>\n",
       "      <th>2</th>\n",
       "      <td>1/01/2019</td>\n",
       "      <td>Jan</td>\n",
       "      <td>1</td>\n",
       "      <td>3398652</td>\n",
       "      <td>(2007 YQ56)</td>\n",
       "      <td>19.9</td>\n",
       "      <td>15.429487</td>\n",
       "      <td>1/01/2019</td>\n",
       "      <td>0.622358</td>\n",
       "      <td>0.278327</td>\n",
       "      <td>True</td>\n",
       "      <td>11440989.54</td>\n",
       "      <td>Earth</td>\n",
       "    </tr>\n",
       "    <tr>\n",
       "      <th>3</th>\n",
       "      <td>1/01/2019</td>\n",
       "      <td>Jan</td>\n",
       "      <td>1</td>\n",
       "      <td>3837538</td>\n",
       "      <td>(2018 YV2)</td>\n",
       "      <td>24.2</td>\n",
       "      <td>11.718652</td>\n",
       "      <td>1/01/2019</td>\n",
       "      <td>0.085909</td>\n",
       "      <td>0.038420</td>\n",
       "      <td>False</td>\n",
       "      <td>10220722.30</td>\n",
       "      <td>Earth</td>\n",
       "    </tr>\n",
       "    <tr>\n",
       "      <th>4</th>\n",
       "      <td>1/01/2019</td>\n",
       "      <td>Jan</td>\n",
       "      <td>1</td>\n",
       "      <td>3771017</td>\n",
       "      <td>(2017 EV2)</td>\n",
       "      <td>20.8</td>\n",
       "      <td>13.642474</td>\n",
       "      <td>1/01/2019</td>\n",
       "      <td>0.411188</td>\n",
       "      <td>0.183889</td>\n",
       "      <td>False</td>\n",
       "      <td>70335665.49</td>\n",
       "      <td>Earth</td>\n",
       "    </tr>\n",
       "  </tbody>\n",
       "</table>\n",
       "</div>"
      ],
      "text/plain": [
       "        Date Month  Day       ID         Name  Absolute Magnitude  \\\n",
       "0  1/01/2019   Jan    1  3837557    (2019 AN)                24.2   \n",
       "1  1/01/2019   Jan    1  3398654  (2007 YS56)                25.7   \n",
       "2  1/01/2019   Jan    1  3398652  (2007 YQ56)                19.9   \n",
       "3  1/01/2019   Jan    1  3837538   (2018 YV2)                24.2   \n",
       "4  1/01/2019   Jan    1  3771017   (2017 EV2)                20.8   \n",
       "\n",
       "   Relative Velocity (k/s) Close Approach Date  Estimated Max Diameter  \\\n",
       "0                 8.368577           1/01/2019                0.085909   \n",
       "1                 6.461135           1/01/2019                0.043057   \n",
       "2                15.429487           1/01/2019                0.622358   \n",
       "3                11.718652           1/01/2019                0.085909   \n",
       "4                13.642474           1/01/2019                0.411188   \n",
       "\n",
       "   Estimated Min Diameter  Potentially Hazardous?  Miss Distance (km)  \\\n",
       "0                0.038420                   False         19108365.54   \n",
       "1                0.019256                   False         17987605.96   \n",
       "2                0.278327                    True         11440989.54   \n",
       "3                0.038420                   False         10220722.30   \n",
       "4                0.183889                   False         70335665.49   \n",
       "\n",
       "  Orbiting Body  \n",
       "0         Earth  \n",
       "1         Earth  \n",
       "2         Earth  \n",
       "3         Earth  \n",
       "4         Earth  "
      ]
     },
     "execution_count": 329,
     "metadata": {},
     "output_type": "execute_result"
    }
   ],
   "source": [
    "asteroid_data.head()"
   ]
  },
  {
   "cell_type": "code",
   "execution_count": 330,
   "metadata": {},
   "outputs": [
    {
     "data": {
      "text/plain": [
       "12613.43417"
      ]
     },
     "execution_count": 330,
     "metadata": {},
     "output_type": "execute_result"
    }
   ],
   "source": [
    "# Max size {diameter}\n",
    "orbit_body_max = asteroid_data[\"Miss Distance (km)\"].max()\n",
    "orbit_body_min = asteroid_data[\"Miss Distance (km)\"].min()\n",
    "orbit_body_min\n",
    "#so the closest and asteroid came to earth is still pretty far away... it is the equivalent distance of if you walked around earth's circumference   "
   ]
  },
  {
   "cell_type": "code",
   "execution_count": 331,
   "metadata": {},
   "outputs": [
    {
     "data": {
      "image/png": "[encoded data removed]",
      "text/plain": [
       "<Figure size 432x288 with 1 Axes>"
      ]
     },
     "metadata": {
      "needs_background": "light"
     },
     "output_type": "display_data"
    }
   ],
   "source": [
    "average_vel = asteroid_data.groupby([\"Estimated Max Diameter\"]).mean()[\"Relative Velocity (k/s)\"]\n",
    "average_dist = asteroid_data.groupby([\"Estimated Max Diameter\"]).mean()[\"Miss Distance (km)\"]\n",
    "fig,scatterplt = plt.subplots()\n",
    "scatterplt.scatter(average_dist,average_vel)\n",
    "\n",
    "#remove_large_outlier.set_index('Miss Distance (km)')['Relative Velocity (k/s)'].plt.scatter();\n",
    "#label the y axis\n",
    "plt.ylabel(\"Velocity k/s\", labelpad=10)\n",
    "plt.xlabel(\"Miss Distance\")\n",
    "#label the graph \n",
    "plt.title(\"Velocity vs Miss Distance Based on Average Max Diameter\")\n",
    "plt.show()"
   ]
  },
  {
   "cell_type": "markdown",
   "metadata": {},
   "source": [
    "Based on the average max diameter the missed distance and velocity do not seem to have any correaltion, there are some outliers where the velocity is much higher but these do not seem to have a relationship either. "
   ]
  },
  {
   "cell_type": "code",
   "execution_count": 332,
   "metadata": {},
   "outputs": [
    {
     "data": {
      "text/plain": [
       "65.46911977"
      ]
     },
     "execution_count": 332,
     "metadata": {},
     "output_type": "execute_result"
    }
   ],
   "source": [
    "#what is the max velocity to test if I have plotted the data above correctly\n",
    "max_vel = asteroid_data[\"Relative Velocity (k/s)\"].max()\n",
    "max_vel"
   ]
  },
  {
   "cell_type": "code",
   "execution_count": 333,
   "metadata": {},
   "outputs": [
    {
     "data": {
      "text/plain": [
       "4510"
      ]
     },
     "execution_count": 333,
     "metadata": {},
     "output_type": "execute_result"
    }
   ],
   "source": [
    "#find how many unique asteroids in total \n",
    "count = asteroid_data[\"Name\"].nunique()\n",
    "count"
   ]
  },
  {
   "cell_type": "code",
   "execution_count": 334,
   "metadata": {},
   "outputs": [
    {
     "data": {
      "text/plain": [
       "49.43561926"
      ]
     },
     "execution_count": 334,
     "metadata": {},
     "output_type": "execute_result"
    }
   ],
   "source": [
    "#find the max diameter of max diameter \n",
    "max_dia = asteroid_data[\"Estimated Max Diameter\"].max()\n",
    "max_dia"
   ]
  },
  {
   "cell_type": "code",
   "execution_count": 335,
   "metadata": {},
   "outputs": [
    {
     "data": {
      "text/plain": [
       "0.28243774193543447"
      ]
     },
     "execution_count": 335,
     "metadata": {},
     "output_type": "execute_result"
    }
   ],
   "source": [
    "#find the average diameter of max diameter\n",
    "mean_dia = asteroid_data[\"Estimated Max Diameter\"].mean()\n",
    "mean_dia"
   ]
  },
  {
   "cell_type": "code",
   "execution_count": 336,
   "metadata": {},
   "outputs": [
    {
     "data": {
      "text/plain": [
       "32.3"
      ]
     },
     "execution_count": 336,
     "metadata": {},
     "output_type": "execute_result"
    }
   ],
   "source": [
    "#max magniutde \n",
    "mag_max = asteroid_data[\"Absolute Magnitude\"].max()\n",
    "mag_max"
   ]
  },
  {
   "cell_type": "code",
   "execution_count": 337,
   "metadata": {},
   "outputs": [
    {
     "data": {
      "text/plain": [
       "4510"
      ]
     },
     "execution_count": 337,
     "metadata": {},
     "output_type": "execute_result"
    }
   ],
   "source": [
    "#Count on the ID make sure is same as Name\n",
    "count_asteroid = asteroid_data[\"ID\"].nunique()\n",
    "count_asteroid"
   ]
  },
  {
   "cell_type": "code",
   "execution_count": 338,
   "metadata": {},
   "outputs": [
    {
     "data": {
      "text/plain": [
       "12.882851471341697"
      ]
     },
     "execution_count": 338,
     "metadata": {},
     "output_type": "execute_result"
    }
   ],
   "source": [
    "#Average speed {relative velocity} kilometers per second\n",
    "av_speed = asteroid_data[\"Relative Velocity (k/s)\"].mean()\n",
    "av_speed"
   ]
  },
  {
   "cell_type": "code",
   "execution_count": 339,
   "metadata": {},
   "outputs": [],
   "source": [
    "#clean the data to get a smaller data source to plot, remove larger outliers and smaller outliers too \n",
    "remove_large_outlier = asteroid_data.loc[asteroid_data[\"Estimated Max Diameter\"]<6,:]\n",
    "remove_small_outliers = remove_large_outlier.loc[remove_large_outlier[\"Estimated Max Diameter\"]>=0.04,:]\n",
    "# (dont use)remove_days = remove_small_outliers.loc[remove_small_outliers[\"Day\"]<2,:]\n",
    "# (dont use)remove_days"
   ]
  },
  {
   "cell_type": "code",
   "execution_count": 342,
   "metadata": {},
   "outputs": [],
   "source": [
    "#plot the pylot scatter using cleaned data for dia and miss dist by month and day\n",
    "fig4=px.scatter(remove_small_outliers, y=\"Estimated Max Diameter\", x=\"Miss Distance (km)\", animation_frame=\"Month\", animation_group=\"Day\",\n",
    "           size=\"Estimated Max Diameter\", color=\"Day\", hover_name=\"Date\",\n",
    "           log_x=True, size_max=65, range_x=[1000000,100000000], range_y=[-0.8,4],title=\"Miss Distance vs Estimated Max Diameter by Day and Month for Sample Data\")\n",
    "#fig4.write_html(\"Miss Distance vs Estimated Max Diameter by Day and Month for Sample Data.html\")\n",
    "#fig4.write_image(\"Miss Distance vs Estimated Max Diameter by Day and Month for Sample Data.png\")\n",
    "#fig4"
   ]
  },
  {
   "cell_type": "code",
   "execution_count": 343,
   "metadata": {},
   "outputs": [],
   "source": [
    "#grouped by month, scatter plot for dia and miss dist, by abs magnitude\n",
    "fig3 = px.scatter(remove_small_outliers, y=\"Estimated Max Diameter\", x=\"Miss Distance (km)\", animation_frame=\"Month\", animation_group=\"Day\",\n",
    "           size=\"Estimated Max Diameter\", color=\"Absolute Magnitude\", hover_name=\"Date\",\n",
    "           log_x=True, size_max=120, range_x=[1000600,100000000], range_y=[-0.5,2],title=\"Miss Distance vs Estimated Max Diameter by Absolute Magnitude and Month for Sample Data\")\n",
    "#fig3.write_html(\"Miss Distance vs Estimated Max Diameter by Absolute Magnitude and Month for Sample Data.html\")\n",
    "#fig3.write_image(\"Miss Distance vs Estimated Max Diameter by Absolute Magnitude and Month for Sample Data.png\")\n",
    "#fig3"
   ]
  },
  {
   "cell_type": "code",
   "execution_count": 344,
   "metadata": {},
   "outputs": [],
   "source": [
    "#how many records of one asteroid using groupby(dont use - not needed)\n",
    "# group_name = asteroid_data.groupby(\"Name\")\n",
    "# group_name.head()\n"
   ]
  },
  {
   "cell_type": "code",
   "execution_count": 345,
   "metadata": {},
   "outputs": [
    {
     "data": {
      "text/plain": [
       "(2020 CD3)           5\n",
       "(2006 SC)            3\n",
       "(2018 FG1)           3\n",
       "325395 (2009 CQ5)    3\n",
       "528859 (2009 CR5)    3\n",
       "                    ..\n",
       "(2012 UV136)         1\n",
       "(2016 DU1)           1\n",
       "(2017 UF1)           1\n",
       "(2019 OM3)           1\n",
       "(2019 TV6)           1\n",
       "Name: Name, Length: 4510, dtype: int64"
      ]
     },
     "execution_count": 345,
     "metadata": {},
     "output_type": "execute_result"
    }
   ],
   "source": [
    "#how many records of one asteroid & find the names of the asteroids \n",
    "find_uni = asteroid_data[\"Name\"].value_counts()\n",
    "find_uni"
   ]
  },
  {
   "cell_type": "markdown",
   "metadata": {},
   "source": [
    "Of the asteroids (2020 CD3) is the one with the most data for the year 2019, I will use this data to plot and find realtionships"
   ]
  },
  {
   "cell_type": "code",
   "execution_count": 346,
   "metadata": {},
   "outputs": [
    {
     "data": {
      "text/html": [
       "<div>\n",
       "<style scoped>\n",
       "    .dataframe tbody tr th:only-of-type {\n",
       "        vertical-align: middle;\n",
       "    }\n",
       "\n",
       "    .dataframe tbody tr th {\n",
       "        vertical-align: top;\n",
       "    }\n",
       "\n",
       "    .dataframe thead th {\n",
       "        text-align: right;\n",
       "    }\n",
       "</style>\n",
       "<table border=\"1\" class=\"dataframe\">\n",
       "  <thead>\n",
       "    <tr style=\"text-align: right;\">\n",
       "      <th></th>\n",
       "      <th>Date</th>\n",
       "      <th>Month</th>\n",
       "      <th>Day</th>\n",
       "      <th>ID</th>\n",
       "      <th>Name</th>\n",
       "      <th>Absolute Magnitude</th>\n",
       "      <th>Relative Velocity (k/s)</th>\n",
       "      <th>Close Approach Date</th>\n",
       "      <th>Estimated Max Diameter</th>\n",
       "      <th>Estimated Min Diameter</th>\n",
       "      <th>Potentially Hazardous?</th>\n",
       "      <th>Miss Distance (km)</th>\n",
       "      <th>Orbiting Body</th>\n",
       "    </tr>\n",
       "  </thead>\n",
       "  <tbody>\n",
       "    <tr>\n",
       "      <th>242</th>\n",
       "      <td>16/01/2019</td>\n",
       "      <td>Jan</td>\n",
       "      <td>16</td>\n",
       "      <td>54000953</td>\n",
       "      <td>(2020 CD3)</td>\n",
       "      <td>31.672</td>\n",
       "      <td>2.132636</td>\n",
       "      <td>16/01/2019</td>\n",
       "      <td>0.002752</td>\n",
       "      <td>0.001231</td>\n",
       "      <td>False</td>\n",
       "      <td>162325.86620</td>\n",
       "      <td>Earth</td>\n",
       "    </tr>\n",
       "    <tr>\n",
       "      <th>1234</th>\n",
       "      <td>4/04/2019</td>\n",
       "      <td>Apr</td>\n",
       "      <td>4</td>\n",
       "      <td>54000953</td>\n",
       "      <td>(2020 CD3)</td>\n",
       "      <td>31.672</td>\n",
       "      <td>7.768625</td>\n",
       "      <td>4/04/2019</td>\n",
       "      <td>0.002752</td>\n",
       "      <td>0.001231</td>\n",
       "      <td>False</td>\n",
       "      <td>13121.45357</td>\n",
       "      <td>Earth</td>\n",
       "    </tr>\n",
       "    <tr>\n",
       "      <th>2334</th>\n",
       "      <td>30/06/2019</td>\n",
       "      <td>Jun</td>\n",
       "      <td>30</td>\n",
       "      <td>54000953</td>\n",
       "      <td>(2020 CD3)</td>\n",
       "      <td>31.672</td>\n",
       "      <td>1.556539</td>\n",
       "      <td>30/06/2019</td>\n",
       "      <td>0.002752</td>\n",
       "      <td>0.001231</td>\n",
       "      <td>False</td>\n",
       "      <td>276852.46040</td>\n",
       "      <td>Earth</td>\n",
       "    </tr>\n",
       "    <tr>\n",
       "      <th>3250</th>\n",
       "      <td>10/09/2019</td>\n",
       "      <td>Sep</td>\n",
       "      <td>10</td>\n",
       "      <td>54000953</td>\n",
       "      <td>(2020 CD3)</td>\n",
       "      <td>31.672</td>\n",
       "      <td>1.471872</td>\n",
       "      <td>10/09/2019</td>\n",
       "      <td>0.002752</td>\n",
       "      <td>0.001231</td>\n",
       "      <td>False</td>\n",
       "      <td>301933.12670</td>\n",
       "      <td>Earth</td>\n",
       "    </tr>\n",
       "    <tr>\n",
       "      <th>4497</th>\n",
       "      <td>18/11/2019</td>\n",
       "      <td>Nov</td>\n",
       "      <td>18</td>\n",
       "      <td>54000953</td>\n",
       "      <td>(2020 CD3)</td>\n",
       "      <td>31.672</td>\n",
       "      <td>1.540805</td>\n",
       "      <td>18/11/2019</td>\n",
       "      <td>0.002752</td>\n",
       "      <td>0.001231</td>\n",
       "      <td>False</td>\n",
       "      <td>289677.11180</td>\n",
       "      <td>Earth</td>\n",
       "    </tr>\n",
       "  </tbody>\n",
       "</table>\n",
       "</div>"
      ],
      "text/plain": [
       "            Date Month  Day        ID        Name  Absolute Magnitude  \\\n",
       "242   16/01/2019   Jan   16  54000953  (2020 CD3)              31.672   \n",
       "1234   4/04/2019   Apr    4  54000953  (2020 CD3)              31.672   \n",
       "2334  30/06/2019   Jun   30  54000953  (2020 CD3)              31.672   \n",
       "3250  10/09/2019   Sep   10  54000953  (2020 CD3)              31.672   \n",
       "4497  18/11/2019   Nov   18  54000953  (2020 CD3)              31.672   \n",
       "\n",
       "      Relative Velocity (k/s) Close Approach Date  Estimated Max Diameter  \\\n",
       "242                  2.132636          16/01/2019                0.002752   \n",
       "1234                 7.768625           4/04/2019                0.002752   \n",
       "2334                 1.556539          30/06/2019                0.002752   \n",
       "3250                 1.471872          10/09/2019                0.002752   \n",
       "4497                 1.540805          18/11/2019                0.002752   \n",
       "\n",
       "      Estimated Min Diameter  Potentially Hazardous?  Miss Distance (km)  \\\n",
       "242                 0.001231                   False        162325.86620   \n",
       "1234                0.001231                   False         13121.45357   \n",
       "2334                0.001231                   False        276852.46040   \n",
       "3250                0.001231                   False        301933.12670   \n",
       "4497                0.001231                   False        289677.11180   \n",
       "\n",
       "     Orbiting Body  \n",
       "242          Earth  \n",
       "1234         Earth  \n",
       "2334         Earth  \n",
       "3250         Earth  \n",
       "4497         Earth  "
      ]
     },
     "execution_count": 346,
     "metadata": {},
     "output_type": "execute_result"
    }
   ],
   "source": [
    "#use the asteroid with the most records and plot the yearly data to see how it has moved, print Df to see what data we can play with\n",
    "date_find = asteroid_data.loc[asteroid_data[\"Name\"]==\"(2020 CD3)\"]\n",
    "date_find"
   ]
  },
  {
   "cell_type": "code",
   "execution_count": 347,
   "metadata": {},
   "outputs": [],
   "source": [
    "# (dont use)new_date = date_find.loc[:,\"Date\"]\n",
    "# (dont use)new_date"
   ]
  },
  {
   "cell_type": "code",
   "execution_count": 348,
   "metadata": {},
   "outputs": [
    {
     "name": "stderr",
     "output_type": "stream",
     "text": [
      "C:\\Users\\bonna\\anaconda3\\lib\\site-packages\\ipykernel_launcher.py:2: SettingWithCopyWarning:\n",
      "\n",
      "\n",
      "A value is trying to be set on a copy of a slice from a DataFrame.\n",
      "Try using .loc[row_indexer,col_indexer] = value instead\n",
      "\n",
      "See the caveats in the documentation: https://pandas.pydata.org/pandas-docs/stable/user_guide/indexing.html#returning-a-view-versus-a-copy\n",
      "\n"
     ]
    },
    {
     "data": {
      "text/html": [
       "<div>\n",
       "<style scoped>\n",
       "    .dataframe tbody tr th:only-of-type {\n",
       "        vertical-align: middle;\n",
       "    }\n",
       "\n",
       "    .dataframe tbody tr th {\n",
       "        vertical-align: top;\n",
       "    }\n",
       "\n",
       "    .dataframe thead th {\n",
       "        text-align: right;\n",
       "    }\n",
       "</style>\n",
       "<table border=\"1\" class=\"dataframe\">\n",
       "  <thead>\n",
       "    <tr style=\"text-align: right;\">\n",
       "      <th></th>\n",
       "      <th>Date</th>\n",
       "      <th>Month</th>\n",
       "      <th>Day</th>\n",
       "      <th>ID</th>\n",
       "      <th>Name</th>\n",
       "      <th>Absolute Magnitude</th>\n",
       "      <th>Relative Velocity (k/s)</th>\n",
       "      <th>Close Approach Date</th>\n",
       "      <th>Estimated Max Diameter</th>\n",
       "      <th>Estimated Min Diameter</th>\n",
       "      <th>Potentially Hazardous?</th>\n",
       "      <th>Miss Distance (km)</th>\n",
       "      <th>Orbiting Body</th>\n",
       "      <th>New Date</th>\n",
       "    </tr>\n",
       "  </thead>\n",
       "  <tbody>\n",
       "    <tr>\n",
       "      <th>242</th>\n",
       "      <td>16/01/2019</td>\n",
       "      <td>Jan</td>\n",
       "      <td>16</td>\n",
       "      <td>54000953</td>\n",
       "      <td>(2020 CD3)</td>\n",
       "      <td>31.672</td>\n",
       "      <td>2.132636</td>\n",
       "      <td>16/01/2019</td>\n",
       "      <td>0.002752</td>\n",
       "      <td>0.001231</td>\n",
       "      <td>False</td>\n",
       "      <td>162325.86620</td>\n",
       "      <td>Earth</td>\n",
       "      <td>2019-01-16</td>\n",
       "    </tr>\n",
       "    <tr>\n",
       "      <th>1234</th>\n",
       "      <td>4/04/2019</td>\n",
       "      <td>Apr</td>\n",
       "      <td>4</td>\n",
       "      <td>54000953</td>\n",
       "      <td>(2020 CD3)</td>\n",
       "      <td>31.672</td>\n",
       "      <td>7.768625</td>\n",
       "      <td>4/04/2019</td>\n",
       "      <td>0.002752</td>\n",
       "      <td>0.001231</td>\n",
       "      <td>False</td>\n",
       "      <td>13121.45357</td>\n",
       "      <td>Earth</td>\n",
       "      <td>2019-04-04</td>\n",
       "    </tr>\n",
       "    <tr>\n",
       "      <th>2334</th>\n",
       "      <td>30/06/2019</td>\n",
       "      <td>Jun</td>\n",
       "      <td>30</td>\n",
       "      <td>54000953</td>\n",
       "      <td>(2020 CD3)</td>\n",
       "      <td>31.672</td>\n",
       "      <td>1.556539</td>\n",
       "      <td>30/06/2019</td>\n",
       "      <td>0.002752</td>\n",
       "      <td>0.001231</td>\n",
       "      <td>False</td>\n",
       "      <td>276852.46040</td>\n",
       "      <td>Earth</td>\n",
       "      <td>2019-06-30</td>\n",
       "    </tr>\n",
       "    <tr>\n",
       "      <th>3250</th>\n",
       "      <td>10/09/2019</td>\n",
       "      <td>Sep</td>\n",
       "      <td>10</td>\n",
       "      <td>54000953</td>\n",
       "      <td>(2020 CD3)</td>\n",
       "      <td>31.672</td>\n",
       "      <td>1.471872</td>\n",
       "      <td>10/09/2019</td>\n",
       "      <td>0.002752</td>\n",
       "      <td>0.001231</td>\n",
       "      <td>False</td>\n",
       "      <td>301933.12670</td>\n",
       "      <td>Earth</td>\n",
       "      <td>2019-10-09</td>\n",
       "    </tr>\n",
       "    <tr>\n",
       "      <th>4497</th>\n",
       "      <td>18/11/2019</td>\n",
       "      <td>Nov</td>\n",
       "      <td>18</td>\n",
       "      <td>54000953</td>\n",
       "      <td>(2020 CD3)</td>\n",
       "      <td>31.672</td>\n",
       "      <td>1.540805</td>\n",
       "      <td>18/11/2019</td>\n",
       "      <td>0.002752</td>\n",
       "      <td>0.001231</td>\n",
       "      <td>False</td>\n",
       "      <td>289677.11180</td>\n",
       "      <td>Earth</td>\n",
       "      <td>2019-11-18</td>\n",
       "    </tr>\n",
       "  </tbody>\n",
       "</table>\n",
       "</div>"
      ],
      "text/plain": [
       "            Date Month  Day        ID        Name  Absolute Magnitude  \\\n",
       "242   16/01/2019   Jan   16  54000953  (2020 CD3)              31.672   \n",
       "1234   4/04/2019   Apr    4  54000953  (2020 CD3)              31.672   \n",
       "2334  30/06/2019   Jun   30  54000953  (2020 CD3)              31.672   \n",
       "3250  10/09/2019   Sep   10  54000953  (2020 CD3)              31.672   \n",
       "4497  18/11/2019   Nov   18  54000953  (2020 CD3)              31.672   \n",
       "\n",
       "      Relative Velocity (k/s) Close Approach Date  Estimated Max Diameter  \\\n",
       "242                  2.132636          16/01/2019                0.002752   \n",
       "1234                 7.768625           4/04/2019                0.002752   \n",
       "2334                 1.556539          30/06/2019                0.002752   \n",
       "3250                 1.471872          10/09/2019                0.002752   \n",
       "4497                 1.540805          18/11/2019                0.002752   \n",
       "\n",
       "      Estimated Min Diameter  Potentially Hazardous?  Miss Distance (km)  \\\n",
       "242                 0.001231                   False        162325.86620   \n",
       "1234                0.001231                   False         13121.45357   \n",
       "2334                0.001231                   False        276852.46040   \n",
       "3250                0.001231                   False        301933.12670   \n",
       "4497                0.001231                   False        289677.11180   \n",
       "\n",
       "     Orbiting Body   New Date  \n",
       "242          Earth 2019-01-16  \n",
       "1234         Earth 2019-04-04  \n",
       "2334         Earth 2019-06-30  \n",
       "3250         Earth 2019-10-09  \n",
       "4497         Earth 2019-11-18  "
      ]
     },
     "execution_count": 348,
     "metadata": {},
     "output_type": "execute_result"
    }
   ],
   "source": [
    "#need to sort the data by date,convert date to datetime to be able to sort the values\n",
    "date_find[\"New Date\"] = pd.to_datetime(date_find[\"Date\"])\n",
    "date_find.sort_values(by=[\"New Date\"])"
   ]
  },
  {
   "cell_type": "code",
   "execution_count": 349,
   "metadata": {},
   "outputs": [
    {
     "data": {
      "image/png": "[encoded data removed]",
      "text/plain": [
       "<Figure size 432x288 with 1 Axes>"
      ]
     },
     "metadata": {
      "needs_background": "light"
     },
     "output_type": "display_data"
    }
   ],
   "source": [
    "#plot this asteroid 2020 CD3 (line chart on change in miss distance per month OR relative velocity vs miss distance) to see if and correlation\n",
    "\n",
    "#plot the line graph \n",
    "date_find.set_index('Miss Distance (km)')['New Date'].plot();\n",
    "#label the y axis\n",
    "plt.ylabel(\"Date\", labelpad=10)\n",
    "\n",
    "#label the graph \n",
    "plt.title(\"Date vs Miss Distance\")\n",
    "plt.show()\n",
    "#plt.savefig(\"Date vs Miss Distance\")"
   ]
  },
  {
   "cell_type": "markdown",
   "metadata": {},
   "source": [
    "Observation: The data in which I have plotted for date vs miss distance shows how the asteroid travelled through the year, we have an outlier that ends up being much closer to Earth in April and then goes right back out further in the following months. "
   ]
  },
  {
   "cell_type": "code",
   "execution_count": 350,
   "metadata": {},
   "outputs": [
    {
     "data": {
      "image/png": "[encoded data removed]",
      "text/plain": [
       "<Figure size 432x288 with 1 Axes>"
      ]
     },
     "metadata": {
      "needs_background": "light"
     },
     "output_type": "display_data"
    }
   ],
   "source": [
    "#plot this asteroid 2020 CD3,Miss distance distance vs velocity to see if and correlation\n",
    "\n",
    "#plot the line graph \n",
    "date_find.set_index('Relative Velocity (k/s)')['Miss Distance (km)'].plot();\n",
    "#label the y axis\n",
    "plt.ylabel(\"Miss Distance\", labelpad=10)\n",
    "\n",
    "#label the graph \n",
    "plt.title(\"Speed vs Miss Distance\")\n",
    "plt.show()\n",
    "#plt.savefig(\"Speed vs Miss Distance\")"
   ]
  },
  {
   "cell_type": "markdown",
   "metadata": {},
   "source": [
    "Observation: There is no correaltion between miss distance and speed"
   ]
  },
  {
   "cell_type": "code",
   "execution_count": 351,
   "metadata": {
    "scrolled": false
   },
   "outputs": [],
   "source": [
    "#I am replotting using a scatter plot to see if the data from above line graphs is more user readable\n",
    "fig2=px.scatter(date_find, y=\"Relative Velocity (k/s)\", x=\"Miss Distance (km)\",animation_group=\"Month\",\n",
    "           size=\"Relative Velocity (k/s)\", color=\"Month\", hover_name=\"Date\",\n",
    "           log_x=True, size_max=45, range_x=[10000,400000], range_y=[1,9],title=\"Relative Velocity vs Miss Distance by Date for Asteroid 2020 CD3\")\n",
    "#fig2.write_html(\"Relative Velocity vs Miss Distance by Date for Asteroid 2020 CD3.html\")\n",
    "#fig2.write_image(\"Relative Velocity vs Miss Distance by Date for Asteroid 2020 CD3.png\")\n",
    "#fig2"
   ]
  },
  {
   "attachments": {},
   "cell_type": "markdown",
   "metadata": {},
   "source": [
    "Conclusion: What we found was there is a correlation between relative velocity of an asteroid and how close it got to the Earth"
   ]
  },
  {
   "cell_type": "code",
   "execution_count": 352,
   "metadata": {},
   "outputs": [],
   "source": [
    "#I am replotting using a scatter plot to see if the data from above line graphs is more user readable\n",
    "fig=px.scatter(date_find, y=\"Date\", x=\"Miss Distance (km)\",animation_group=\"Month\",\n",
    "           size=\"Miss Distance (km)\", color=\"Month\", hover_name=\"Date\",\n",
    "           log_x=True, size_max=45, range_x=[10000,400000], range_y=[\"Jan\",\"Dec\"],title=\"Date vs Miss Distance for Asteroid by Date 2020 CD3\")\n",
    "#fig.write_html(\"Date vs Miss Distance for Asteroid by Date 2020 CD3.html\")\n",
    "#fig.write_image(\"Date vs Miss Distance for Asteroid by Date 2020 CD3.png\")\n",
    "#fig"
   ]
  },
  {
   "cell_type": "markdown",
   "metadata": {},
   "source": [
    "Observation: The data in which I have plotted for date vs miss distance shows an outlier that ends up being much closer to Earth in April and then goes right back out to where the other data points lie in the following months. "
   ]
  },
  {
   "cell_type": "markdown",
   "metadata": {},
   "source": []
  }
 ],
 "metadata": {
  "kernelspec": {
   "display_name": "Python 3",
   "language": "python",
   "name": "python3"
  },
  "language_info": {
   "codemirror_mode": {
    "name": "ipython",
    "version": 3
   },
   "file_extension": ".py",
   "mimetype": "text/x-python",
   "name": "python",
   "nbconvert_exporter": "python",
   "pygments_lexer": "ipython3",
   "version": "3.7.6"
  }
 },
 "nbformat": 4,
 "nbformat_minor": 4
}
